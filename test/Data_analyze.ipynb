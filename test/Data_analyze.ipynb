{
 "cells": [
  {
   "cell_type": "markdown",
   "source": [
    "# Data Analyze\r\n",
    "\r\n",
    "To process data properly, we need to analyze data\r\n"
   ],
   "metadata": {}
  },
  {
   "cell_type": "markdown",
   "source": [
    "# Import Libraries\r\n"
   ],
   "metadata": {}
  },
  {
   "cell_type": "code",
   "execution_count": 1,
   "source": [
    "import pandas as pd\r\n",
    "import matplotlib.pyplot as plt\r\n",
    "import ast"
   ],
   "outputs": [],
   "metadata": {}
  },
  {
   "cell_type": "markdown",
   "source": [
    "# Process Data\r\n",
    "\r\n",
    "Frist, read CSV file and process it. Generate User-item pairs.\r\n"
   ],
   "metadata": {}
  },
  {
   "cell_type": "code",
   "execution_count": 2,
   "source": [
    "csv = pd.read_csv('../data/json_parsed.csv')\r\n",
    "\r\n",
    "# Since pandas writes list as string, retrieve them\r\n",
    "csv['links'] = csv.links.apply(lambda x: ast.literal_eval(x)[0])\r\n",
    "csv['contributors'] = csv.contributors.apply(lambda x: ast.literal_eval(x)[0])\r\n",
    "csv['category'] = csv.category.apply(lambda x: ast.literal_eval(x)[0])\r\n",
    "csv['category_length'] = csv.category.apply(lambda x: len(x))\r\n",
    "csv['link_length'] = csv.links.apply(lambda x: len(x))\r\n",
    "redirect = csv[(csv.link_length == 1) & (csv.text.str.contains('redirect'))]\r\n",
    "\r\n",
    "relink = {}\r\n",
    "\r\n",
    "for index, row in redirect.iterrows():\r\n",
    "    relink[row['title']] = row['links'][0]\r\n",
    "\r\n",
    "diction = {}\r\n",
    "category_transformer = {}\r\n",
    "i = 0\r\n",
    "\r\n",
    "for index, row in csv.iterrows():\r\n",
    "    link = relink.get(row['title'])\r\n",
    "    if link:\r\n",
    "        # Since there are secondary redirected documents, explore non-redirect document\r\n",
    "        while relink.get(link) is not None:\r\n",
    "            if link == relink.get(link):\r\n",
    "                break\r\n",
    "            link = relink.get(link)\r\n",
    "\r\n",
    "        if diction.get(link):\r\n",
    "            diction[link].extend(row['contributors'])\r\n",
    "        else:\r\n",
    "            diction[link] = row['contributors']\r\n",
    "\r\n",
    "        if category_transformer.get(link):\r\n",
    "            category_transformer[link].extend(row['category'])\r\n",
    "        else:\r\n",
    "            category_transformer[link] = row['category']\r\n",
    "\r\n",
    "    else:\r\n",
    "        if diction.get(row['title']):\r\n",
    "            diction[row['title']].extend(row['contributors'])\r\n",
    "        else:\r\n",
    "            diction[row['title']] = row['contributors']\r\n",
    "\r\n",
    "        if category_transformer.get(row['title']):\r\n",
    "            category_transformer[row['title']].extend(row['category'])\r\n",
    "        else:\r\n",
    "            category_transformer[row['title']] = row['category']\r\n",
    "\r\n",
    "    i += 1\r\n",
    "\r\n",
    "    if (i % 10000 == 0):\r\n",
    "        print(f\"processed {i}\")\r\n",
    "\r\n",
    "print('process done')\r\n",
    "\r\n",
    "#processed = mpPandasObj(process_contributors, csv, numThreads=process_num, relink=relink)\r\n",
    "#processed = pd.DataFrame(list(processed.items()), columns=['title', 'contributors'])\r\n",
    "processed = pd.DataFrame(list(diction.items()), columns=['title', 'contributors'])\r\n",
    "#processed['title'] = processed.title.apply(lambda x : category_transformer[x])\r\n",
    "\r\n",
    "processed = processed.explode('contributors')\r\n",
    "\r\n",
    "contributor_count = processed.groupby('title').count()\r\n",
    "doc_count = processed.groupby('contributors').count()"
   ],
   "outputs": [
    {
     "output_type": "stream",
     "name": "stdout",
     "text": [
      "processed 10000\n",
      "processed 20000\n",
      "processed 30000\n",
      "processed 40000\n",
      "processed 50000\n",
      "processed 60000\n",
      "processed 70000\n",
      "processed 80000\n",
      "processed 90000\n",
      "processed 100000\n",
      "processed 110000\n",
      "processed 120000\n",
      "processed 130000\n",
      "processed 140000\n",
      "processed 150000\n",
      "processed 160000\n",
      "processed 170000\n",
      "processed 180000\n",
      "processed 190000\n",
      "processed 200000\n",
      "processed 210000\n",
      "processed 220000\n",
      "processed 230000\n",
      "processed 240000\n",
      "processed 250000\n",
      "processed 260000\n",
      "processed 270000\n",
      "processed 280000\n",
      "processed 290000\n",
      "processed 300000\n",
      "processed 310000\n",
      "processed 320000\n",
      "processed 330000\n",
      "processed 340000\n",
      "processed 350000\n",
      "processed 360000\n",
      "processed 370000\n",
      "processed 380000\n",
      "processed 390000\n",
      "processed 400000\n",
      "processed 410000\n",
      "processed 420000\n",
      "processed 430000\n",
      "processed 440000\n",
      "processed 450000\n",
      "processed 460000\n",
      "processed 470000\n",
      "processed 480000\n",
      "processed 490000\n",
      "processed 500000\n",
      "processed 510000\n",
      "processed 520000\n",
      "processed 530000\n",
      "processed 540000\n",
      "processed 550000\n",
      "processed 560000\n",
      "processed 570000\n",
      "processed 580000\n",
      "processed 590000\n",
      "processed 600000\n",
      "processed 610000\n",
      "processed 620000\n",
      "processed 630000\n",
      "processed 640000\n",
      "processed 650000\n",
      "processed 660000\n",
      "processed 670000\n",
      "processed 680000\n",
      "processed 690000\n",
      "processed 700000\n",
      "processed 710000\n",
      "processed 720000\n",
      "processed 730000\n",
      "processed 740000\n",
      "processed 750000\n",
      "processed 760000\n",
      "processed 770000\n",
      "processed 780000\n",
      "processed 790000\n",
      "processed 800000\n",
      "processed 810000\n",
      "processed 820000\n",
      "processed 830000\n",
      "processed 840000\n",
      "processed 850000\n",
      "processed 860000\n",
      "process done\n"
     ]
    }
   ],
   "metadata": {}
  },
  {
   "cell_type": "markdown",
   "source": [
    "# Data description\r\n",
    "\r\n",
    "Simple description of data. We can check mean, std and qunatiles.\r\n"
   ],
   "metadata": {}
  },
  {
   "cell_type": "code",
   "execution_count": 3,
   "source": [
    "contributor_count = contributor_count.sort_values('contributors' ,ascending=False)\r\n",
    "\r\n",
    "contributor_count.head(10)"
   ],
   "outputs": [
    {
     "output_type": "execute_result",
     "data": {
      "text/plain": [
       "                 contributors\n",
       "title                        \n",
       "대한민국                     2895\n",
       "오락실/서울                   2874\n",
       "야스오(리그 오브 레전드)           2847\n",
       "D.Va                     2613\n",
       "오락실/경기/남부                2529\n",
       "청해진해운 세월호 침몰 사고          2495\n",
       "홍진호                      2476\n",
       "고양이                      2395\n",
       "북한                       2347\n",
       "김정은                      2310"
      ],
      "text/html": [
       "<div>\n",
       "<style scoped>\n",
       "    .dataframe tbody tr th:only-of-type {\n",
       "        vertical-align: middle;\n",
       "    }\n",
       "\n",
       "    .dataframe tbody tr th {\n",
       "        vertical-align: top;\n",
       "    }\n",
       "\n",
       "    .dataframe thead th {\n",
       "        text-align: right;\n",
       "    }\n",
       "</style>\n",
       "<table border=\"1\" class=\"dataframe\">\n",
       "  <thead>\n",
       "    <tr style=\"text-align: right;\">\n",
       "      <th></th>\n",
       "      <th>contributors</th>\n",
       "    </tr>\n",
       "    <tr>\n",
       "      <th>title</th>\n",
       "      <th></th>\n",
       "    </tr>\n",
       "  </thead>\n",
       "  <tbody>\n",
       "    <tr>\n",
       "      <th>대한민국</th>\n",
       "      <td>2895</td>\n",
       "    </tr>\n",
       "    <tr>\n",
       "      <th>오락실/서울</th>\n",
       "      <td>2874</td>\n",
       "    </tr>\n",
       "    <tr>\n",
       "      <th>야스오(리그 오브 레전드)</th>\n",
       "      <td>2847</td>\n",
       "    </tr>\n",
       "    <tr>\n",
       "      <th>D.Va</th>\n",
       "      <td>2613</td>\n",
       "    </tr>\n",
       "    <tr>\n",
       "      <th>오락실/경기/남부</th>\n",
       "      <td>2529</td>\n",
       "    </tr>\n",
       "    <tr>\n",
       "      <th>청해진해운 세월호 침몰 사고</th>\n",
       "      <td>2495</td>\n",
       "    </tr>\n",
       "    <tr>\n",
       "      <th>홍진호</th>\n",
       "      <td>2476</td>\n",
       "    </tr>\n",
       "    <tr>\n",
       "      <th>고양이</th>\n",
       "      <td>2395</td>\n",
       "    </tr>\n",
       "    <tr>\n",
       "      <th>북한</th>\n",
       "      <td>2347</td>\n",
       "    </tr>\n",
       "    <tr>\n",
       "      <th>김정은</th>\n",
       "      <td>2310</td>\n",
       "    </tr>\n",
       "  </tbody>\n",
       "</table>\n",
       "</div>"
      ]
     },
     "metadata": {},
     "execution_count": 3
    }
   ],
   "metadata": {}
  },
  {
   "cell_type": "markdown",
   "source": [
    "Top 10 documents that are modified frequently. "
   ],
   "metadata": {}
  },
  {
   "cell_type": "code",
   "execution_count": null,
   "source": [
    "contributor_count.describe()"
   ],
   "outputs": [
    {
     "output_type": "execute_result",
     "data": {
      "text/plain": [
       "        contributors\n",
       "count  573334.000000\n",
       "mean       42.142931\n",
       "std        84.274899\n",
       "min         1.000000\n",
       "25%         7.000000\n",
       "50%        16.000000\n",
       "75%        41.000000\n",
       "max      2895.000000"
      ],
      "text/html": [
       "<div>\n",
       "<style scoped>\n",
       "    .dataframe tbody tr th:only-of-type {\n",
       "        vertical-align: middle;\n",
       "    }\n",
       "\n",
       "    .dataframe tbody tr th {\n",
       "        vertical-align: top;\n",
       "    }\n",
       "\n",
       "    .dataframe thead th {\n",
       "        text-align: right;\n",
       "    }\n",
       "</style>\n",
       "<table border=\"1\" class=\"dataframe\">\n",
       "  <thead>\n",
       "    <tr style=\"text-align: right;\">\n",
       "      <th></th>\n",
       "      <th>contributors</th>\n",
       "    </tr>\n",
       "  </thead>\n",
       "  <tbody>\n",
       "    <tr>\n",
       "      <th>count</th>\n",
       "      <td>573334.000000</td>\n",
       "    </tr>\n",
       "    <tr>\n",
       "      <th>mean</th>\n",
       "      <td>42.142931</td>\n",
       "    </tr>\n",
       "    <tr>\n",
       "      <th>std</th>\n",
       "      <td>84.274899</td>\n",
       "    </tr>\n",
       "    <tr>\n",
       "      <th>min</th>\n",
       "      <td>1.000000</td>\n",
       "    </tr>\n",
       "    <tr>\n",
       "      <th>25%</th>\n",
       "      <td>7.000000</td>\n",
       "    </tr>\n",
       "    <tr>\n",
       "      <th>50%</th>\n",
       "      <td>16.000000</td>\n",
       "    </tr>\n",
       "    <tr>\n",
       "      <th>75%</th>\n",
       "      <td>41.000000</td>\n",
       "    </tr>\n",
       "    <tr>\n",
       "      <th>max</th>\n",
       "      <td>2895.000000</td>\n",
       "    </tr>\n",
       "  </tbody>\n",
       "</table>\n",
       "</div>"
      ]
     },
     "metadata": {},
     "execution_count": 5
    }
   ],
   "metadata": {}
  },
  {
   "cell_type": "code",
   "execution_count": null,
   "source": [
    "doc_count = doc_count.sort_values('title' ,ascending=False)\r\n",
    "\r\n",
    "doc_count.head(10)"
   ],
   "outputs": [
    {
     "output_type": "execute_result",
     "data": {
      "text/plain": [
       "                  title\n",
       "contributors           \n",
       "namubot          308148\n",
       "kiwitree2        283390\n",
       "samduk           131879\n",
       "albert_einstein   60745\n",
       "owb101            41000\n",
       "korhermit         37868\n",
       "e080hsm           37528\n",
       "49.163.93.241     26566\n",
       "general9753       25977\n",
       "sky_nintendo      25878"
      ],
      "text/html": [
       "<div>\n",
       "<style scoped>\n",
       "    .dataframe tbody tr th:only-of-type {\n",
       "        vertical-align: middle;\n",
       "    }\n",
       "\n",
       "    .dataframe tbody tr th {\n",
       "        vertical-align: top;\n",
       "    }\n",
       "\n",
       "    .dataframe thead th {\n",
       "        text-align: right;\n",
       "    }\n",
       "</style>\n",
       "<table border=\"1\" class=\"dataframe\">\n",
       "  <thead>\n",
       "    <tr style=\"text-align: right;\">\n",
       "      <th></th>\n",
       "      <th>title</th>\n",
       "    </tr>\n",
       "    <tr>\n",
       "      <th>contributors</th>\n",
       "      <th></th>\n",
       "    </tr>\n",
       "  </thead>\n",
       "  <tbody>\n",
       "    <tr>\n",
       "      <th>namubot</th>\n",
       "      <td>308148</td>\n",
       "    </tr>\n",
       "    <tr>\n",
       "      <th>kiwitree2</th>\n",
       "      <td>283390</td>\n",
       "    </tr>\n",
       "    <tr>\n",
       "      <th>samduk</th>\n",
       "      <td>131879</td>\n",
       "    </tr>\n",
       "    <tr>\n",
       "      <th>albert_einstein</th>\n",
       "      <td>60745</td>\n",
       "    </tr>\n",
       "    <tr>\n",
       "      <th>owb101</th>\n",
       "      <td>41000</td>\n",
       "    </tr>\n",
       "    <tr>\n",
       "      <th>korhermit</th>\n",
       "      <td>37868</td>\n",
       "    </tr>\n",
       "    <tr>\n",
       "      <th>e080hsm</th>\n",
       "      <td>37528</td>\n",
       "    </tr>\n",
       "    <tr>\n",
       "      <th>49.163.93.241</th>\n",
       "      <td>26566</td>\n",
       "    </tr>\n",
       "    <tr>\n",
       "      <th>general9753</th>\n",
       "      <td>25977</td>\n",
       "    </tr>\n",
       "    <tr>\n",
       "      <th>sky_nintendo</th>\n",
       "      <td>25878</td>\n",
       "    </tr>\n",
       "  </tbody>\n",
       "</table>\n",
       "</div>"
      ]
     },
     "metadata": {},
     "execution_count": 6
    }
   ],
   "metadata": {}
  },
  {
   "cell_type": "markdown",
   "source": [
    "Top 10 contributors. First and second are bots. After third is human. So we can see that the greatest contributor is samduk"
   ],
   "metadata": {}
  },
  {
   "cell_type": "code",
   "execution_count": null,
   "source": [
    "doc_count.describe()"
   ],
   "outputs": [
    {
     "output_type": "execute_result",
     "data": {
      "text/plain": [
       "              title\n",
       "count  2.077510e+06\n",
       "mean   1.163026e+01\n",
       "std    3.376847e+02\n",
       "min    1.000000e+00\n",
       "25%    1.000000e+00\n",
       "50%    1.000000e+00\n",
       "75%    4.000000e+00\n",
       "max    3.081480e+05"
      ],
      "text/html": [
       "<div>\n",
       "<style scoped>\n",
       "    .dataframe tbody tr th:only-of-type {\n",
       "        vertical-align: middle;\n",
       "    }\n",
       "\n",
       "    .dataframe tbody tr th {\n",
       "        vertical-align: top;\n",
       "    }\n",
       "\n",
       "    .dataframe thead th {\n",
       "        text-align: right;\n",
       "    }\n",
       "</style>\n",
       "<table border=\"1\" class=\"dataframe\">\n",
       "  <thead>\n",
       "    <tr style=\"text-align: right;\">\n",
       "      <th></th>\n",
       "      <th>title</th>\n",
       "    </tr>\n",
       "  </thead>\n",
       "  <tbody>\n",
       "    <tr>\n",
       "      <th>count</th>\n",
       "      <td>2.077510e+06</td>\n",
       "    </tr>\n",
       "    <tr>\n",
       "      <th>mean</th>\n",
       "      <td>1.163026e+01</td>\n",
       "    </tr>\n",
       "    <tr>\n",
       "      <th>std</th>\n",
       "      <td>3.376847e+02</td>\n",
       "    </tr>\n",
       "    <tr>\n",
       "      <th>min</th>\n",
       "      <td>1.000000e+00</td>\n",
       "    </tr>\n",
       "    <tr>\n",
       "      <th>25%</th>\n",
       "      <td>1.000000e+00</td>\n",
       "    </tr>\n",
       "    <tr>\n",
       "      <th>50%</th>\n",
       "      <td>1.000000e+00</td>\n",
       "    </tr>\n",
       "    <tr>\n",
       "      <th>75%</th>\n",
       "      <td>4.000000e+00</td>\n",
       "    </tr>\n",
       "    <tr>\n",
       "      <th>max</th>\n",
       "      <td>3.081480e+05</td>\n",
       "    </tr>\n",
       "  </tbody>\n",
       "</table>\n",
       "</div>"
      ]
     },
     "metadata": {},
     "execution_count": 7
    }
   ],
   "metadata": {}
  },
  {
   "cell_type": "markdown",
   "source": [
    "## Histogram\r\n"
   ],
   "metadata": {}
  },
  {
   "cell_type": "code",
   "execution_count": 15,
   "source": [
    "contributor_count.hist(bins=1000)"
   ],
   "outputs": [
    {
     "output_type": "execute_result",
     "data": {
      "text/plain": [
       "array([[<AxesSubplot:title={'center':'contributors'}>]], dtype=object)"
      ]
     },
     "metadata": {},
     "execution_count": 15
    },
    {
     "output_type": "display_data",
     "data": {
      "text/plain": [
       "<Figure size 432x288 with 1 Axes>"
      ],
      "image/png": "[encoded data removed]"
     },
     "metadata": {
      "needs_background": "light"
     }
    }
   ],
   "metadata": {}
  },
  {
   "cell_type": "code",
   "execution_count": 19,
   "source": [
    "doc_count.hist(bins=100)"
   ],
   "outputs": [
    {
     "output_type": "execute_result",
     "data": {
      "text/plain": [
       "array([[<AxesSubplot:title={'center':'title'}>]], dtype=object)"
      ]
     },
     "metadata": {},
     "execution_count": 19
    },
    {
     "output_type": "display_data",
     "data": {
      "text/plain": [
       "<Figure size 432x288 with 1 Axes>"
      ],
      "image/png": "[encoded data removed]"
     },
     "metadata": {
      "needs_background": "light"
     }
    }
   ],
   "metadata": {}
  },
  {
   "cell_type": "code",
   "execution_count": 3,
   "source": [
    "# To Pad categorical features, check max num of category of document\r\n",
    "\r\n",
    "csv['category_length'].describe()"
   ],
   "outputs": [
    {
     "output_type": "execute_result",
     "data": {
      "text/plain": [
       "count    867023.000000\n",
       "mean          1.579327\n",
       "std           2.122671\n",
       "min           0.000000\n",
       "25%           0.000000\n",
       "50%           1.000000\n",
       "75%           2.000000\n",
       "max          42.000000\n",
       "Name: category_length, dtype: float64"
      ]
     },
     "metadata": {},
     "execution_count": 3
    }
   ],
   "metadata": {}
  },
  {
   "cell_type": "code",
   "execution_count": 4,
   "source": [
    "csv.sort_values('category_length' ,ascending=False).head(10)"
   ],
   "outputs": [
    {
     "output_type": "execute_result",
     "data": {
      "text/plain": [
       "                 title                                               text  \\\n",
       "87042        마이클 J. 폭스   할리우드 명예의 거리 입성자 이름 마이클 J. 폭스 MICHAEL J FOX 분야...   \n",
       "398461             여운홍   대한민국 국회 대한민국 국회의원 (경기 양평군) 초대 류래완 → 제2대 여운홍 →...   \n",
       "853355           조선/왕실   조선 왕실 관향 전라북도 전주시 창업군주 태조 이성계 중시조 세조, 중종, 인조,...   \n",
       "745644           마틴 쇼트   역대 토니상 시상식 남우주연상 - 뮤지컬 부문 제52회 (1998년) → 제53회...   \n",
       "542407           세브달리자   Sevdaliza 이름 세브달리자(Sevdaliza) 본명 세브다 앨리자데흐(Se...   \n",
       "624022          오데야 러쉬   오데야 러쉬 אודיה רש ｜ Odeya Rush 본명 오데야 러쉬네크 Odey...   \n",
       "516842  마이크 마이어스(코미디언)   할리우드 명예의 거리 입성자 이름마이크 마이어스 MIKE MYERS 분야영화 입성...   \n",
       "139645          스티븐 시걸   스티븐 시걸 Steven Seagal 본명 스티븐 프레데릭 시걸 (Steven F...   \n",
       "766128            윌 아넷   Will Arnett 본명 윌리엄 에머슨 아넷 (William Emerson Ar...   \n",
       "81111           루피타 뇽오   역대 아카데미 시상식 여우조연상 제85회 (2013년) → 제86회 (2014년)...   \n",
       "\n",
       "                                                 category  \\\n",
       "87042   [1961년 출생, 1976년 데뷔, 2020년 은퇴, 미국으로 귀화한 인물, 미국...   \n",
       "398461  [친일인명사전 수록자/교육, 학술, 한국의 사회주의 독립운동가, 1891년 출생, ...   \n",
       "853355  [조선의 왕족, 전주 이씨 경명군파, 전주 이씨 경창군파, 전주 이씨 계성군파, 전...   \n",
       "745644  [1950년 출생, 1979년 데뷔, 미국의 남가수/ㅁ, 미국의 남배우/ㅁ, 미국의...   \n",
       "542407  [1987년 출생, 2014년 데뷔, 가수 출신 배우, 네덜란드로 귀화한 인물, 네...   \n",
       "624022  [1997년 출생, 2010년 데뷔, 러시아계 미국인/ㅇ, 러시아계 유대인/ㅇ, 미...   \n",
       "516842  [1963년 출생, 1975년 데뷔, 복수국적자, 영국계 미국인, 영국계 캐나다인,...   \n",
       "139645  [1952년 출생, 1988년 데뷔, 네덜란드계 미국인/ㅅ, 독일계 미국인/ㅅ, 랜...   \n",
       "766128  [1970년 출생, 1996년 데뷔, 네덜란드계 미국인, 네덜란드계 캐나다인, 미국...   \n",
       "81111   [1983년 출생, 2005년 데뷔, 멕시코시티 출신 인물, 멕시코의 다큐멘터리 감...   \n",
       "\n",
       "                                                    links  \\\n",
       "87042   [스튜어트 리틀, 6월 9일, 백 투 더 퓨처 시리즈, 동안, 강수진(KBS 성우)...   \n",
       "398461  [1906년, 우드로 윌슨, 경기도, 1973년, 대한민국 국회, 좌우 합작 운동,...   \n",
       "853355  [광평대군, 연희궁, 정현왕후, 장경왕후, 효순왕후, 변안열, 이방번, 현숙공주, ...   \n",
       "745644  [코미디언, 맥마스터 대학교, 프로듀서, 현재, 성우, 2000년, 카바레, 캐나다...   \n",
       "542407  [싱어송라이터, 하나투어, 가수, 펜타포트 락 페스티벌, 트립 합, 테헤란, 일렉트...   \n",
       "624022  [2015년, 1997년, 해피 어게인, 2016년, 사랑, 스무살, 배우, 스피닝...   \n",
       "516842  [카녜이 웨스트, 저스틴 팀버레이크, 데미 무어, 바스터즈: 거친 녀석들, 새터데이...   \n",
       "139645  [더 키퍼, 2005년, 니 캐핑, 리사 실버맨, 마피아, 세르비아, 아이키도, 하...   \n",
       "766128  [코미디언, 미국, 프로듀서, 캐나다, 음악가, 배우, 온타리오 주, 작가, 성우,...   \n",
       "81111   [마즈 카나타, 체스의 여왕, 블랙 팬서(영화), 정글북(영화), 노예 12년(영화...   \n",
       "\n",
       "                                             contributors  category_length  \\\n",
       "87042   [r:canicula, 221.161.137.3, 59.10.174.232, for...               42   \n",
       "398461  [116.45.185.184, 116.36.214.187, nicknamemola,...               41   \n",
       "853355  [bart0130, halfling, cometleeko, mkj3533, 112....               39   \n",
       "745644       [googol, 119.70.108.247, urrbwhd, kiwitree2]               36   \n",
       "542407  [c__c, urrbwhd, 121.138.61.48, wikic, kiwitree...               35   \n",
       "624022  [biobeo, kiwitree5, 99.237.177.85, urrbwhd, ki...               35   \n",
       "516842  [221.158.252.42, a_004, 121.134.184.110, 121.1...               35   \n",
       "139645  [114.76.88.213, 116.41.137.252, iyunmin1586, 1...               35   \n",
       "766128  [219.248.135.84, 122.36.246.227, cw0323, urrbw...               35   \n",
       "81111   [sangmin4480, 182.222.90.17, 112.170.175.167, ...               34   \n",
       "\n",
       "        link_length  \n",
       "87042            46  \n",
       "398461          102  \n",
       "853355          354  \n",
       "745644           22  \n",
       "542407           15  \n",
       "624022           29  \n",
       "516842           34  \n",
       "139645          136  \n",
       "766128           16  \n",
       "81111            50  "
      ],
      "text/html": [
       "<div>\n",
       "<style scoped>\n",
       "    .dataframe tbody tr th:only-of-type {\n",
       "        vertical-align: middle;\n",
       "    }\n",
       "\n",
       "    .dataframe tbody tr th {\n",
       "        vertical-align: top;\n",
       "    }\n",
       "\n",
       "    .dataframe thead th {\n",
       "        text-align: right;\n",
       "    }\n",
       "</style>\n",
       "<table border=\"1\" class=\"dataframe\">\n",
       "  <thead>\n",
       "    <tr style=\"text-align: right;\">\n",
       "      <th></th>\n",
       "      <th>title</th>\n",
       "      <th>text</th>\n",
       "      <th>category</th>\n",
       "      <th>links</th>\n",
       "      <th>contributors</th>\n",
       "      <th>category_length</th>\n",
       "      <th>link_length</th>\n",
       "    </tr>\n",
       "  </thead>\n",
       "  <tbody>\n",
       "    <tr>\n",
       "      <th>87042</th>\n",
       "      <td>마이클 J. 폭스</td>\n",
       "      <td>할리우드 명예의 거리 입성자 이름 마이클 J. 폭스 MICHAEL J FOX 분야...</td>\n",
       "      <td>[1961년 출생, 1976년 데뷔, 2020년 은퇴, 미국으로 귀화한 인물, 미국...</td>\n",
       "      <td>[스튜어트 리틀, 6월 9일, 백 투 더 퓨처 시리즈, 동안, 강수진(KBS 성우)...</td>\n",
       "      <td>[r:canicula, 221.161.137.3, 59.10.174.232, for...</td>\n",
       "      <td>42</td>\n",
       "      <td>46</td>\n",
       "    </tr>\n",
       "    <tr>\n",
       "      <th>398461</th>\n",
       "      <td>여운홍</td>\n",
       "      <td>대한민국 국회 대한민국 국회의원 (경기 양평군) 초대 류래완 → 제2대 여운홍 →...</td>\n",
       "      <td>[친일인명사전 수록자/교육, 학술, 한국의 사회주의 독립운동가, 1891년 출생, ...</td>\n",
       "      <td>[1906년, 우드로 윌슨, 경기도, 1973년, 대한민국 국회, 좌우 합작 운동,...</td>\n",
       "      <td>[116.45.185.184, 116.36.214.187, nicknamemola,...</td>\n",
       "      <td>41</td>\n",
       "      <td>102</td>\n",
       "    </tr>\n",
       "    <tr>\n",
       "      <th>853355</th>\n",
       "      <td>조선/왕실</td>\n",
       "      <td>조선 왕실 관향 전라북도 전주시 창업군주 태조 이성계 중시조 세조, 중종, 인조,...</td>\n",
       "      <td>[조선의 왕족, 전주 이씨 경명군파, 전주 이씨 경창군파, 전주 이씨 계성군파, 전...</td>\n",
       "      <td>[광평대군, 연희궁, 정현왕후, 장경왕후, 효순왕후, 변안열, 이방번, 현숙공주, ...</td>\n",
       "      <td>[bart0130, halfling, cometleeko, mkj3533, 112....</td>\n",
       "      <td>39</td>\n",
       "      <td>354</td>\n",
       "    </tr>\n",
       "    <tr>\n",
       "      <th>745644</th>\n",
       "      <td>마틴 쇼트</td>\n",
       "      <td>역대 토니상 시상식 남우주연상 - 뮤지컬 부문 제52회 (1998년) → 제53회...</td>\n",
       "      <td>[1950년 출생, 1979년 데뷔, 미국의 남가수/ㅁ, 미국의 남배우/ㅁ, 미국의...</td>\n",
       "      <td>[코미디언, 맥마스터 대학교, 프로듀서, 현재, 성우, 2000년, 카바레, 캐나다...</td>\n",
       "      <td>[googol, 119.70.108.247, urrbwhd, kiwitree2]</td>\n",
       "      <td>36</td>\n",
       "      <td>22</td>\n",
       "    </tr>\n",
       "    <tr>\n",
       "      <th>542407</th>\n",
       "      <td>세브달리자</td>\n",
       "      <td>Sevdaliza 이름 세브달리자(Sevdaliza) 본명 세브다 앨리자데흐(Se...</td>\n",
       "      <td>[1987년 출생, 2014년 데뷔, 가수 출신 배우, 네덜란드로 귀화한 인물, 네...</td>\n",
       "      <td>[싱어송라이터, 하나투어, 가수, 펜타포트 락 페스티벌, 트립 합, 테헤란, 일렉트...</td>\n",
       "      <td>[c__c, urrbwhd, 121.138.61.48, wikic, kiwitree...</td>\n",
       "      <td>35</td>\n",
       "      <td>15</td>\n",
       "    </tr>\n",
       "    <tr>\n",
       "      <th>624022</th>\n",
       "      <td>오데야 러쉬</td>\n",
       "      <td>오데야 러쉬 אודיה רש ｜ Odeya Rush 본명 오데야 러쉬네크 Odey...</td>\n",
       "      <td>[1997년 출생, 2010년 데뷔, 러시아계 미국인/ㅇ, 러시아계 유대인/ㅇ, 미...</td>\n",
       "      <td>[2015년, 1997년, 해피 어게인, 2016년, 사랑, 스무살, 배우, 스피닝...</td>\n",
       "      <td>[biobeo, kiwitree5, 99.237.177.85, urrbwhd, ki...</td>\n",
       "      <td>35</td>\n",
       "      <td>29</td>\n",
       "    </tr>\n",
       "    <tr>\n",
       "      <th>516842</th>\n",
       "      <td>마이크 마이어스(코미디언)</td>\n",
       "      <td>할리우드 명예의 거리 입성자 이름마이크 마이어스 MIKE MYERS 분야영화 입성...</td>\n",
       "      <td>[1963년 출생, 1975년 데뷔, 복수국적자, 영국계 미국인, 영국계 캐나다인,...</td>\n",
       "      <td>[카녜이 웨스트, 저스틴 팀버레이크, 데미 무어, 바스터즈: 거친 녀석들, 새터데이...</td>\n",
       "      <td>[221.158.252.42, a_004, 121.134.184.110, 121.1...</td>\n",
       "      <td>35</td>\n",
       "      <td>34</td>\n",
       "    </tr>\n",
       "    <tr>\n",
       "      <th>139645</th>\n",
       "      <td>스티븐 시걸</td>\n",
       "      <td>스티븐 시걸 Steven Seagal 본명 스티븐 프레데릭 시걸 (Steven F...</td>\n",
       "      <td>[1952년 출생, 1988년 데뷔, 네덜란드계 미국인/ㅅ, 독일계 미국인/ㅅ, 랜...</td>\n",
       "      <td>[더 키퍼, 2005년, 니 캐핑, 리사 실버맨, 마피아, 세르비아, 아이키도, 하...</td>\n",
       "      <td>[114.76.88.213, 116.41.137.252, iyunmin1586, 1...</td>\n",
       "      <td>35</td>\n",
       "      <td>136</td>\n",
       "    </tr>\n",
       "    <tr>\n",
       "      <th>766128</th>\n",
       "      <td>윌 아넷</td>\n",
       "      <td>Will Arnett 본명 윌리엄 에머슨 아넷 (William Emerson Ar...</td>\n",
       "      <td>[1970년 출생, 1996년 데뷔, 네덜란드계 미국인, 네덜란드계 캐나다인, 미국...</td>\n",
       "      <td>[코미디언, 미국, 프로듀서, 캐나다, 음악가, 배우, 온타리오 주, 작가, 성우,...</td>\n",
       "      <td>[219.248.135.84, 122.36.246.227, cw0323, urrbw...</td>\n",
       "      <td>35</td>\n",
       "      <td>16</td>\n",
       "    </tr>\n",
       "    <tr>\n",
       "      <th>81111</th>\n",
       "      <td>루피타 뇽오</td>\n",
       "      <td>역대 아카데미 시상식 여우조연상 제85회 (2013년) → 제86회 (2014년)...</td>\n",
       "      <td>[1983년 출생, 2005년 데뷔, 멕시코시티 출신 인물, 멕시코의 다큐멘터리 감...</td>\n",
       "      <td>[마즈 카나타, 체스의 여왕, 블랙 팬서(영화), 정글북(영화), 노예 12년(영화...</td>\n",
       "      <td>[sangmin4480, 182.222.90.17, 112.170.175.167, ...</td>\n",
       "      <td>34</td>\n",
       "      <td>50</td>\n",
       "    </tr>\n",
       "  </tbody>\n",
       "</table>\n",
       "</div>"
      ]
     },
     "metadata": {},
     "execution_count": 4
    }
   ],
   "metadata": {}
  },
  {
   "cell_type": "code",
   "execution_count": 7,
   "source": [
    "csv['category_length'].hist(bins=50)"
   ],
   "outputs": [
    {
     "output_type": "execute_result",
     "data": {
      "text/plain": [
       "<AxesSubplot:>"
      ]
     },
     "metadata": {},
     "execution_count": 7
    },
    {
     "output_type": "display_data",
     "data": {
      "text/plain": [
       "<Figure size 432x288 with 1 Axes>"
      ],
      "image/svg+xml": "<?xml version=\"1.0\" encoding=\"utf-8\" standalone=\"no\"?>\r\n<!DOCTYPE svg PUBLIC \"-//W3C//DTD SVG 1.1//EN\"\r\n  \"http://www.w3.org/Graphics/SVG/1.1/DTD/svg11.dtd\">\r\n<svg height=\"248.518125pt\" version=\"1.1\" viewBox=\"0 0 394.375 248.518125\" width=\"394.375pt\" xmlns=\"http://www.w3.org/2000/svg\" xmlns:xlink=\"http://www.w3.org/1999/xlink\">\r\n <metadata>\r\n  <rdf:RDF xmlns:cc=\"http://creativecommons.org/ns#\" xmlns:dc=\"http://purl.org/dc/elements/1.1/\" xmlns:rdf=\"http://www.w3.org/1999/02/22-rdf-syntax-ns#\">\r\n   <cc:Work>\r\n    <dc:type rdf:resource=\"http://purl.org/dc/dcmitype/StillImage\"/>\r\n    <dc:date>2021-08-19T03:17:55.375738</dc:date>\r\n    <dc:format>image/svg+xml</dc:format>\r\n    <dc:creator>\r\n     <cc:Agent>\r\n      <dc:title>Matplotlib v3.4.2, https://matplotlib.org/</dc:title>\r\n     </cc:Agent>\r\n    </dc:creator>\r\n   </cc:Work>\r\n  </rdf:RDF>\r\n </metadata>\r\n <defs>\r\n  <style type=\"text/css\">*{stroke-linecap:butt;stroke-linejoin:round;}</style>\r\n </defs>\r\n <g id=\"figure_1\">\r\n  <g id=\"patch_1\">\r\n   <path d=\"M 0 248.518125 \r\nL 394.375 248.518125 \r\nL 394.375 0 \r\nL 0 0 \r\nz\r\n\" style=\"fill:none;\"/>\r\n  </g>\r\n  <g id=\"axes_1\">\r\n   <g id=\"patch_2\">\r\n    <path d=\"M 52.375 224.64 \r\nL 387.175 224.64 \r\nL 387.175 7.2 \r\nL 52.375 7.2 \r\nz\r\n\" style=\"fill:#ffffff;\"/>\r\n   </g>\r\n   <g id=\"patch_3\">\r\n    <path clip-path=\"url(#p1edaa710be)\" d=\"M 67.593182 224.64 \r\nL 73.680455 224.64 \r\nL 73.680455 17.554286 \r\nL 67.593182 17.554286 \r\nz\r\n\" style=\"fill:#1f77b4;\"/>\r\n   </g>\r\n   <g id=\"patch_4\">\r\n    <path clip-path=\"url(#p1edaa710be)\" d=\"M 73.680455 224.64 \r\nL 79.767727 224.64 \r\nL 79.767727 32.249178 \r\nL 73.680455 32.249178 \r\nz\r\n\" style=\"fill:#1f77b4;\"/>\r\n   </g>\r\n   <g id=\"patch_5\">\r\n    <path clip-path=\"url(#p1edaa710be)\" d=\"M 79.767727 224.64 \r\nL 85.855 224.64 \r\nL 85.855 139.840606 \r\nL 79.767727 139.840606 \r\nz\r\n\" style=\"fill:#1f77b4;\"/>\r\n   </g>\r\n   <g id=\"patch_6\">\r\n    <path clip-path=\"url(#p1edaa710be)\" d=\"M 85.855 224.64 \r\nL 91.942273 224.64 \r\nL 91.942273 176.273545 \r\nL 85.855 176.273545 \r\nz\r\n\" style=\"fill:#1f77b4;\"/>\r\n   </g>\r\n   <g id=\"patch_7\">\r\n    <path clip-path=\"url(#p1edaa710be)\" d=\"M 91.942273 224.64 \r\nL 98.029545 224.64 \r\nL 98.029545 198.74133 \r\nL 91.942273 198.74133 \r\nz\r\n\" style=\"fill:#1f77b4;\"/>\r\n   </g>\r\n   <g id=\"patch_8\">\r\n    <path clip-path=\"url(#p1edaa710be)\" d=\"M 98.029545 224.64 \r\nL 104.116818 224.64 \r\nL 104.116818 209.195061 \r\nL 98.029545 209.195061 \r\nz\r\n\" style=\"fill:#1f77b4;\"/>\r\n   </g>\r\n   <g id=\"patch_9\">\r\n    <path clip-path=\"url(#p1edaa710be)\" d=\"M 104.116818 224.64 \r\nL 110.204091 224.64 \r\nL 110.204091 224.64 \r\nL 104.116818 224.64 \r\nz\r\n\" style=\"fill:#1f77b4;\"/>\r\n   </g>\r\n   <g id=\"patch_10\">\r\n    <path clip-path=\"url(#p1edaa710be)\" d=\"M 110.204091 224.64 \r\nL 116.291364 224.64 \r\nL 116.291364 213.805993 \r\nL 110.204091 213.805993 \r\nz\r\n\" style=\"fill:#1f77b4;\"/>\r\n   </g>\r\n   <g id=\"patch_11\">\r\n    <path clip-path=\"url(#p1edaa710be)\" d=\"M 116.291364 224.64 \r\nL 122.378636 224.64 \r\nL 122.378636 217.028182 \r\nL 116.291364 217.028182 \r\nz\r\n\" style=\"fill:#1f77b4;\"/>\r\n   </g>\r\n   <g id=\"patch_12\">\r\n    <path clip-path=\"url(#p1edaa710be)\" d=\"M 122.378636 224.64 \r\nL 128.465909 224.64 \r\nL 128.465909 219.785356 \r\nL 122.378636 219.785356 \r\nz\r\n\" style=\"fill:#1f77b4;\"/>\r\n   </g>\r\n   <g id=\"patch_13\">\r\n    <path clip-path=\"url(#p1edaa710be)\" d=\"M 128.465909 224.64 \r\nL 134.553182 224.64 \r\nL 134.553182 221.623706 \r\nL 128.465909 221.623706 \r\nz\r\n\" style=\"fill:#1f77b4;\"/>\r\n   </g>\r\n   <g id=\"patch_14\">\r\n    <path clip-path=\"url(#p1edaa710be)\" d=\"M 134.553182 224.64 \r\nL 140.640455 224.64 \r\nL 140.640455 222.651081 \r\nL 134.553182 222.651081 \r\nz\r\n\" style=\"fill:#1f77b4;\"/>\r\n   </g>\r\n   <g id=\"patch_15\">\r\n    <path clip-path=\"url(#p1edaa710be)\" d=\"M 140.640455 224.64 \r\nL 146.727727 224.64 \r\nL 146.727727 224.64 \r\nL 140.640455 224.64 \r\nz\r\n\" style=\"fill:#1f77b4;\"/>\r\n   </g>\r\n   <g id=\"patch_16\">\r\n    <path clip-path=\"url(#p1edaa710be)\" d=\"M 146.727727 224.64 \r\nL 152.815 224.64 \r\nL 152.815 223.196633 \r\nL 146.727727 223.196633 \r\nz\r\n\" style=\"fill:#1f77b4;\"/>\r\n   </g>\r\n   <g id=\"patch_17\">\r\n    <path clip-path=\"url(#p1edaa710be)\" d=\"M 152.815 224.64 \r\nL 158.902273 224.64 \r\nL 158.902273 223.654645 \r\nL 152.815 223.654645 \r\nz\r\n\" style=\"fill:#1f77b4;\"/>\r\n   </g>\r\n   <g id=\"patch_18\">\r\n    <path clip-path=\"url(#p1edaa710be)\" d=\"M 158.902273 224.64 \r\nL 164.989545 224.64 \r\nL 164.989545 223.956484 \r\nL 158.902273 223.956484 \r\nz\r\n\" style=\"fill:#1f77b4;\"/>\r\n   </g>\r\n   <g id=\"patch_19\">\r\n    <path clip-path=\"url(#p1edaa710be)\" d=\"M 164.989545 224.64 \r\nL 171.076818 224.64 \r\nL 171.076818 224.14277 \r\nL 164.989545 224.14277 \r\nz\r\n\" style=\"fill:#1f77b4;\"/>\r\n   </g>\r\n   <g id=\"patch_20\">\r\n    <path clip-path=\"url(#p1edaa710be)\" d=\"M 171.076818 224.64 \r\nL 177.164091 224.64 \r\nL 177.164091 224.319952 \r\nL 171.076818 224.319952 \r\nz\r\n\" style=\"fill:#1f77b4;\"/>\r\n   </g>\r\n   <g id=\"patch_21\">\r\n    <path clip-path=\"url(#p1edaa710be)\" d=\"M 177.164091 224.64 \r\nL 183.251364 224.64 \r\nL 183.251364 224.64 \r\nL 177.164091 224.64 \r\nz\r\n\" style=\"fill:#1f77b4;\"/>\r\n   </g>\r\n   <g id=\"patch_22\">\r\n    <path clip-path=\"url(#p1edaa710be)\" d=\"M 183.251364 224.64 \r\nL 189.338636 224.64 \r\nL 189.338636 224.38088 \r\nL 183.251364 224.38088 \r\nz\r\n\" style=\"fill:#1f77b4;\"/>\r\n   </g>\r\n   <g id=\"patch_23\">\r\n    <path clip-path=\"url(#p1edaa710be)\" d=\"M 189.338636 224.64 \r\nL 195.425909 224.64 \r\nL 195.425909 224.480326 \r\nL 189.338636 224.480326 \r\nz\r\n\" style=\"fill:#1f77b4;\"/>\r\n   </g>\r\n   <g id=\"patch_24\">\r\n    <path clip-path=\"url(#p1edaa710be)\" d=\"M 195.425909 224.64 \r\nL 201.513182 224.64 \r\nL 201.513182 224.497134 \r\nL 195.425909 224.497134 \r\nz\r\n\" style=\"fill:#1f77b4;\"/>\r\n   </g>\r\n   <g id=\"patch_25\">\r\n    <path clip-path=\"url(#p1edaa710be)\" d=\"M 201.513182 224.64 \r\nL 207.600455 224.64 \r\nL 207.600455 224.540554 \r\nL 201.513182 224.540554 \r\nz\r\n\" style=\"fill:#1f77b4;\"/>\r\n   </g>\r\n   <g id=\"patch_26\">\r\n    <path clip-path=\"url(#p1edaa710be)\" d=\"M 207.600455 224.64 \r\nL 213.687727 224.64 \r\nL 213.687727 224.559463 \r\nL 207.600455 224.559463 \r\nz\r\n\" style=\"fill:#1f77b4;\"/>\r\n   </g>\r\n   <g id=\"patch_27\">\r\n    <path clip-path=\"url(#p1edaa710be)\" d=\"M 213.687727 224.64 \r\nL 219.775 224.64 \r\nL 219.775 224.64 \r\nL 213.687727 224.64 \r\nz\r\n\" style=\"fill:#1f77b4;\"/>\r\n   </g>\r\n   <g id=\"patch_28\">\r\n    <path clip-path=\"url(#p1edaa710be)\" d=\"M 219.775 224.64 \r\nL 225.862273 224.64 \r\nL 225.862273 224.573469 \r\nL 219.775 224.573469 \r\nz\r\n\" style=\"fill:#1f77b4;\"/>\r\n   </g>\r\n   <g id=\"patch_29\">\r\n    <path clip-path=\"url(#p1edaa710be)\" d=\"M 225.862273 224.64 \r\nL 231.949545 224.64 \r\nL 231.949545 224.601482 \r\nL 225.862273 224.601482 \r\nz\r\n\" style=\"fill:#1f77b4;\"/>\r\n   </g>\r\n   <g id=\"patch_30\">\r\n    <path clip-path=\"url(#p1edaa710be)\" d=\"M 231.949545 224.64 \r\nL 238.036818 224.64 \r\nL 238.036818 224.608485 \r\nL 231.949545 224.608485 \r\nz\r\n\" style=\"fill:#1f77b4;\"/>\r\n   </g>\r\n   <g id=\"patch_31\">\r\n    <path clip-path=\"url(#p1edaa710be)\" d=\"M 238.036818 224.64 \r\nL 244.124091 224.64 \r\nL 244.124091 224.620391 \r\nL 238.036818 224.620391 \r\nz\r\n\" style=\"fill:#1f77b4;\"/>\r\n   </g>\r\n   <g id=\"patch_32\">\r\n    <path clip-path=\"url(#p1edaa710be)\" d=\"M 244.124091 224.64 \r\nL 250.211364 224.64 \r\nL 250.211364 224.621091 \r\nL 244.124091 224.621091 \r\nz\r\n\" style=\"fill:#1f77b4;\"/>\r\n   </g>\r\n   <g id=\"patch_33\">\r\n    <path clip-path=\"url(#p1edaa710be)\" d=\"M 250.211364 224.64 \r\nL 256.298636 224.64 \r\nL 256.298636 224.623893 \r\nL 250.211364 224.623893 \r\nz\r\n\" style=\"fill:#1f77b4;\"/>\r\n   </g>\r\n   <g id=\"patch_34\">\r\n    <path clip-path=\"url(#p1edaa710be)\" d=\"M 256.298636 224.64 \r\nL 262.385909 224.64 \r\nL 262.385909 224.64 \r\nL 256.298636 224.64 \r\nz\r\n\" style=\"fill:#1f77b4;\"/>\r\n   </g>\r\n   <g id=\"patch_35\">\r\n    <path clip-path=\"url(#p1edaa710be)\" d=\"M 262.385909 224.64 \r\nL 268.473182 224.64 \r\nL 268.473182 224.625293 \r\nL 262.385909 224.625293 \r\nz\r\n\" style=\"fill:#1f77b4;\"/>\r\n   </g>\r\n   <g id=\"patch_36\">\r\n    <path clip-path=\"url(#p1edaa710be)\" d=\"M 268.473182 224.64 \r\nL 274.560455 224.64 \r\nL 274.560455 224.635798 \r\nL 268.473182 224.635798 \r\nz\r\n\" style=\"fill:#1f77b4;\"/>\r\n   </g>\r\n   <g id=\"patch_37\">\r\n    <path clip-path=\"url(#p1edaa710be)\" d=\"M 274.560455 224.64 \r\nL 280.647727 224.64 \r\nL 280.647727 224.630896 \r\nL 274.560455 224.630896 \r\nz\r\n\" style=\"fill:#1f77b4;\"/>\r\n   </g>\r\n   <g id=\"patch_38\">\r\n    <path clip-path=\"url(#p1edaa710be)\" d=\"M 280.647727 224.64 \r\nL 286.735 224.64 \r\nL 286.735 224.638599 \r\nL 280.647727 224.638599 \r\nz\r\n\" style=\"fill:#1f77b4;\"/>\r\n   </g>\r\n   <g id=\"patch_39\">\r\n    <path clip-path=\"url(#p1edaa710be)\" d=\"M 286.735 224.64 \r\nL 292.822273 224.64 \r\nL 292.822273 224.637199 \r\nL 286.735 224.637199 \r\nz\r\n\" style=\"fill:#1f77b4;\"/>\r\n   </g>\r\n   <g id=\"patch_40\">\r\n    <path clip-path=\"url(#p1edaa710be)\" d=\"M 292.822273 224.64 \r\nL 298.909545 224.64 \r\nL 298.909545 224.64 \r\nL 292.822273 224.64 \r\nz\r\n\" style=\"fill:#1f77b4;\"/>\r\n   </g>\r\n   <g id=\"patch_41\">\r\n    <path clip-path=\"url(#p1edaa710be)\" d=\"M 298.909545 224.64 \r\nL 304.996818 224.64 \r\nL 304.996818 224.6393 \r\nL 298.909545 224.6393 \r\nz\r\n\" style=\"fill:#1f77b4;\"/>\r\n   </g>\r\n   <g id=\"patch_42\">\r\n    <path clip-path=\"url(#p1edaa710be)\" d=\"M 304.996818 224.64 \r\nL 311.084091 224.64 \r\nL 311.084091 224.6393 \r\nL 304.996818 224.6393 \r\nz\r\n\" style=\"fill:#1f77b4;\"/>\r\n   </g>\r\n   <g id=\"patch_43\">\r\n    <path clip-path=\"url(#p1edaa710be)\" d=\"M 311.084091 224.64 \r\nL 317.171364 224.64 \r\nL 317.171364 224.637199 \r\nL 311.084091 224.637199 \r\nz\r\n\" style=\"fill:#1f77b4;\"/>\r\n   </g>\r\n   <g id=\"patch_44\">\r\n    <path clip-path=\"url(#p1edaa710be)\" d=\"M 317.171364 224.64 \r\nL 323.258636 224.64 \r\nL 323.258636 224.636498 \r\nL 317.171364 224.636498 \r\nz\r\n\" style=\"fill:#1f77b4;\"/>\r\n   </g>\r\n   <g id=\"patch_45\">\r\n    <path clip-path=\"url(#p1edaa710be)\" d=\"M 323.258636 224.64 \r\nL 329.345909 224.64 \r\nL 329.345909 224.6393 \r\nL 323.258636 224.6393 \r\nz\r\n\" style=\"fill:#1f77b4;\"/>\r\n   </g>\r\n   <g id=\"patch_46\">\r\n    <path clip-path=\"url(#p1edaa710be)\" d=\"M 329.345909 224.64 \r\nL 335.433182 224.64 \r\nL 335.433182 224.64 \r\nL 329.345909 224.64 \r\nz\r\n\" style=\"fill:#1f77b4;\"/>\r\n   </g>\r\n   <g id=\"patch_47\">\r\n    <path clip-path=\"url(#p1edaa710be)\" d=\"M 335.433182 224.64 \r\nL 341.520455 224.64 \r\nL 341.520455 224.64 \r\nL 335.433182 224.64 \r\nz\r\n\" style=\"fill:#1f77b4;\"/>\r\n   </g>\r\n   <g id=\"patch_48\">\r\n    <path clip-path=\"url(#p1edaa710be)\" d=\"M 341.520455 224.64 \r\nL 347.607727 224.64 \r\nL 347.607727 224.64 \r\nL 341.520455 224.64 \r\nz\r\n\" style=\"fill:#1f77b4;\"/>\r\n   </g>\r\n   <g id=\"patch_49\">\r\n    <path clip-path=\"url(#p1edaa710be)\" d=\"M 347.607727 224.64 \r\nL 353.695 224.64 \r\nL 353.695 224.6393 \r\nL 347.607727 224.6393 \r\nz\r\n\" style=\"fill:#1f77b4;\"/>\r\n   </g>\r\n   <g id=\"patch_50\">\r\n    <path clip-path=\"url(#p1edaa710be)\" d=\"M 353.695 224.64 \r\nL 359.782273 224.64 \r\nL 359.782273 224.64 \r\nL 353.695 224.64 \r\nz\r\n\" style=\"fill:#1f77b4;\"/>\r\n   </g>\r\n   <g id=\"patch_51\">\r\n    <path clip-path=\"url(#p1edaa710be)\" d=\"M 359.782273 224.64 \r\nL 365.869545 224.64 \r\nL 365.869545 224.6393 \r\nL 359.782273 224.6393 \r\nz\r\n\" style=\"fill:#1f77b4;\"/>\r\n   </g>\r\n   <g id=\"patch_52\">\r\n    <path clip-path=\"url(#p1edaa710be)\" d=\"M 365.869545 224.64 \r\nL 371.956818 224.64 \r\nL 371.956818 224.6393 \r\nL 365.869545 224.6393 \r\nz\r\n\" style=\"fill:#1f77b4;\"/>\r\n   </g>\r\n   <g id=\"matplotlib.axis_1\">\r\n    <g id=\"xtick_1\">\r\n     <g id=\"line2d_1\">\r\n      <path clip-path=\"url(#p1edaa710be)\" d=\"M 67.593182 224.64 \r\nL 67.593182 7.2 \r\n\" style=\"fill:none;stroke:#b0b0b0;stroke-linecap:square;stroke-width:0.8;\"/>\r\n     </g>\r\n     <g id=\"line2d_2\">\r\n      <defs>\r\n       <path d=\"M 0 0 \r\nL 0 3.5 \r\n\" id=\"m3dfa54d508\" style=\"stroke:#000000;stroke-width:0.8;\"/>\r\n      </defs>\r\n      <g>\r\n       <use style=\"stroke:#000000;stroke-width:0.8;\" x=\"67.593182\" xlink:href=\"#m3dfa54d508\" y=\"224.64\"/>\r\n      </g>\r\n     </g>\r\n     <g id=\"text_1\">\r\n      <!-- 0 -->\r\n      <g transform=\"translate(64.411932 239.238437)scale(0.1 -0.1)\">\r\n       <defs>\r\n        <path d=\"M 2034 4250 \r\nQ 1547 4250 1301 3770 \r\nQ 1056 3291 1056 2328 \r\nQ 1056 1369 1301 889 \r\nQ 1547 409 2034 409 \r\nQ 2525 409 2770 889 \r\nQ 3016 1369 3016 2328 \r\nQ 3016 3291 2770 3770 \r\nQ 2525 4250 2034 4250 \r\nz\r\nM 2034 4750 \r\nQ 2819 4750 3233 4129 \r\nQ 3647 3509 3647 2328 \r\nQ 3647 1150 3233 529 \r\nQ 2819 -91 2034 -91 \r\nQ 1250 -91 836 529 \r\nQ 422 1150 422 2328 \r\nQ 422 3509 836 4129 \r\nQ 1250 4750 2034 4750 \r\nz\r\n\" id=\"DejaVuSans-30\" transform=\"scale(0.015625)\"/>\r\n       </defs>\r\n       <use xlink:href=\"#DejaVuSans-30\"/>\r\n      </g>\r\n     </g>\r\n    </g>\r\n    <g id=\"xtick_2\">\r\n     <g id=\"line2d_3\">\r\n      <path clip-path=\"url(#p1edaa710be)\" d=\"M 140.060714 224.64 \r\nL 140.060714 7.2 \r\n\" style=\"fill:none;stroke:#b0b0b0;stroke-linecap:square;stroke-width:0.8;\"/>\r\n     </g>\r\n     <g id=\"line2d_4\">\r\n      <g>\r\n       <use style=\"stroke:#000000;stroke-width:0.8;\" x=\"140.060714\" xlink:href=\"#m3dfa54d508\" y=\"224.64\"/>\r\n      </g>\r\n     </g>\r\n     <g id=\"text_2\">\r\n      <!-- 10 -->\r\n      <g transform=\"translate(133.698214 239.238437)scale(0.1 -0.1)\">\r\n       <defs>\r\n        <path d=\"M 794 531 \r\nL 1825 531 \r\nL 1825 4091 \r\nL 703 3866 \r\nL 703 4441 \r\nL 1819 4666 \r\nL 2450 4666 \r\nL 2450 531 \r\nL 3481 531 \r\nL 3481 0 \r\nL 794 0 \r\nL 794 531 \r\nz\r\n\" id=\"DejaVuSans-31\" transform=\"scale(0.015625)\"/>\r\n       </defs>\r\n       <use xlink:href=\"#DejaVuSans-31\"/>\r\n       <use x=\"63.623047\" xlink:href=\"#DejaVuSans-30\"/>\r\n      </g>\r\n     </g>\r\n    </g>\r\n    <g id=\"xtick_3\">\r\n     <g id=\"line2d_5\">\r\n      <path clip-path=\"url(#p1edaa710be)\" d=\"M 212.528247 224.64 \r\nL 212.528247 7.2 \r\n\" style=\"fill:none;stroke:#b0b0b0;stroke-linecap:square;stroke-width:0.8;\"/>\r\n     </g>\r\n     <g id=\"line2d_6\">\r\n      <g>\r\n       <use style=\"stroke:#000000;stroke-width:0.8;\" x=\"212.528247\" xlink:href=\"#m3dfa54d508\" y=\"224.64\"/>\r\n      </g>\r\n     </g>\r\n     <g id=\"text_3\">\r\n      <!-- 20 -->\r\n      <g transform=\"translate(206.165747 239.238437)scale(0.1 -0.1)\">\r\n       <defs>\r\n        <path d=\"M 1228 531 \r\nL 3431 531 \r\nL 3431 0 \r\nL 469 0 \r\nL 469 531 \r\nQ 828 903 1448 1529 \r\nQ 2069 2156 2228 2338 \r\nQ 2531 2678 2651 2914 \r\nQ 2772 3150 2772 3378 \r\nQ 2772 3750 2511 3984 \r\nQ 2250 4219 1831 4219 \r\nQ 1534 4219 1204 4116 \r\nQ 875 4013 500 3803 \r\nL 500 4441 \r\nQ 881 4594 1212 4672 \r\nQ 1544 4750 1819 4750 \r\nQ 2544 4750 2975 4387 \r\nQ 3406 4025 3406 3419 \r\nQ 3406 3131 3298 2873 \r\nQ 3191 2616 2906 2266 \r\nQ 2828 2175 2409 1742 \r\nQ 1991 1309 1228 531 \r\nz\r\n\" id=\"DejaVuSans-32\" transform=\"scale(0.015625)\"/>\r\n       </defs>\r\n       <use xlink:href=\"#DejaVuSans-32\"/>\r\n       <use x=\"63.623047\" xlink:href=\"#DejaVuSans-30\"/>\r\n      </g>\r\n     </g>\r\n    </g>\r\n    <g id=\"xtick_4\">\r\n     <g id=\"line2d_7\">\r\n      <path clip-path=\"url(#p1edaa710be)\" d=\"M 284.995779 224.64 \r\nL 284.995779 7.2 \r\n\" style=\"fill:none;stroke:#b0b0b0;stroke-linecap:square;stroke-width:0.8;\"/>\r\n     </g>\r\n     <g id=\"line2d_8\">\r\n      <g>\r\n       <use style=\"stroke:#000000;stroke-width:0.8;\" x=\"284.995779\" xlink:href=\"#m3dfa54d508\" y=\"224.64\"/>\r\n      </g>\r\n     </g>\r\n     <g id=\"text_4\">\r\n      <!-- 30 -->\r\n      <g transform=\"translate(278.633279 239.238437)scale(0.1 -0.1)\">\r\n       <defs>\r\n        <path d=\"M 2597 2516 \r\nQ 3050 2419 3304 2112 \r\nQ 3559 1806 3559 1356 \r\nQ 3559 666 3084 287 \r\nQ 2609 -91 1734 -91 \r\nQ 1441 -91 1130 -33 \r\nQ 819 25 488 141 \r\nL 488 750 \r\nQ 750 597 1062 519 \r\nQ 1375 441 1716 441 \r\nQ 2309 441 2620 675 \r\nQ 2931 909 2931 1356 \r\nQ 2931 1769 2642 2001 \r\nQ 2353 2234 1838 2234 \r\nL 1294 2234 \r\nL 1294 2753 \r\nL 1863 2753 \r\nQ 2328 2753 2575 2939 \r\nQ 2822 3125 2822 3475 \r\nQ 2822 3834 2567 4026 \r\nQ 2313 4219 1838 4219 \r\nQ 1578 4219 1281 4162 \r\nQ 984 4106 628 3988 \r\nL 628 4550 \r\nQ 988 4650 1302 4700 \r\nQ 1616 4750 1894 4750 \r\nQ 2613 4750 3031 4423 \r\nQ 3450 4097 3450 3541 \r\nQ 3450 3153 3228 2886 \r\nQ 3006 2619 2597 2516 \r\nz\r\n\" id=\"DejaVuSans-33\" transform=\"scale(0.015625)\"/>\r\n       </defs>\r\n       <use xlink:href=\"#DejaVuSans-33\"/>\r\n       <use x=\"63.623047\" xlink:href=\"#DejaVuSans-30\"/>\r\n      </g>\r\n     </g>\r\n    </g>\r\n    <g id=\"xtick_5\">\r\n     <g id=\"line2d_9\">\r\n      <path clip-path=\"url(#p1edaa710be)\" d=\"M 357.463312 224.64 \r\nL 357.463312 7.2 \r\n\" style=\"fill:none;stroke:#b0b0b0;stroke-linecap:square;stroke-width:0.8;\"/>\r\n     </g>\r\n     <g id=\"line2d_10\">\r\n      <g>\r\n       <use style=\"stroke:#000000;stroke-width:0.8;\" x=\"357.463312\" xlink:href=\"#m3dfa54d508\" y=\"224.64\"/>\r\n      </g>\r\n     </g>\r\n     <g id=\"text_5\">\r\n      <!-- 40 -->\r\n      <g transform=\"translate(351.100812 239.238437)scale(0.1 -0.1)\">\r\n       <defs>\r\n        <path d=\"M 2419 4116 \r\nL 825 1625 \r\nL 2419 1625 \r\nL 2419 4116 \r\nz\r\nM 2253 4666 \r\nL 3047 4666 \r\nL 3047 1625 \r\nL 3713 1625 \r\nL 3713 1100 \r\nL 3047 1100 \r\nL 3047 0 \r\nL 2419 0 \r\nL 2419 1100 \r\nL 313 1100 \r\nL 313 1709 \r\nL 2253 4666 \r\nz\r\n\" id=\"DejaVuSans-34\" transform=\"scale(0.015625)\"/>\r\n       </defs>\r\n       <use xlink:href=\"#DejaVuSans-34\"/>\r\n       <use x=\"63.623047\" xlink:href=\"#DejaVuSans-30\"/>\r\n      </g>\r\n     </g>\r\n    </g>\r\n   </g>\r\n   <g id=\"matplotlib.axis_2\">\r\n    <g id=\"ytick_1\">\r\n     <g id=\"line2d_11\">\r\n      <path clip-path=\"url(#p1edaa710be)\" d=\"M 52.375 224.64 \r\nL 387.175 224.64 \r\n\" style=\"fill:none;stroke:#b0b0b0;stroke-linecap:square;stroke-width:0.8;\"/>\r\n     </g>\r\n     <g id=\"line2d_12\">\r\n      <defs>\r\n       <path d=\"M 0 0 \r\nL -3.5 0 \r\n\" id=\"m9fc0626021\" style=\"stroke:#000000;stroke-width:0.8;\"/>\r\n      </defs>\r\n      <g>\r\n       <use style=\"stroke:#000000;stroke-width:0.8;\" x=\"52.375\" xlink:href=\"#m9fc0626021\" y=\"224.64\"/>\r\n      </g>\r\n     </g>\r\n     <g id=\"text_6\">\r\n      <!-- 0 -->\r\n      <g transform=\"translate(39.0125 228.439219)scale(0.1 -0.1)\">\r\n       <use xlink:href=\"#DejaVuSans-30\"/>\r\n      </g>\r\n     </g>\r\n    </g>\r\n    <g id=\"ytick_2\">\r\n     <g id=\"line2d_13\">\r\n      <path clip-path=\"url(#p1edaa710be)\" d=\"M 52.375 189.623816 \r\nL 387.175 189.623816 \r\n\" style=\"fill:none;stroke:#b0b0b0;stroke-linecap:square;stroke-width:0.8;\"/>\r\n     </g>\r\n     <g id=\"line2d_14\">\r\n      <g>\r\n       <use style=\"stroke:#000000;stroke-width:0.8;\" x=\"52.375\" xlink:href=\"#m9fc0626021\" y=\"189.623816\"/>\r\n      </g>\r\n     </g>\r\n     <g id=\"text_7\">\r\n      <!-- 50000 -->\r\n      <g transform=\"translate(13.5625 193.423034)scale(0.1 -0.1)\">\r\n       <defs>\r\n        <path d=\"M 691 4666 \r\nL 3169 4666 \r\nL 3169 4134 \r\nL 1269 4134 \r\nL 1269 2991 \r\nQ 1406 3038 1543 3061 \r\nQ 1681 3084 1819 3084 \r\nQ 2600 3084 3056 2656 \r\nQ 3513 2228 3513 1497 \r\nQ 3513 744 3044 326 \r\nQ 2575 -91 1722 -91 \r\nQ 1428 -91 1123 -41 \r\nQ 819 9 494 109 \r\nL 494 744 \r\nQ 775 591 1075 516 \r\nQ 1375 441 1709 441 \r\nQ 2250 441 2565 725 \r\nQ 2881 1009 2881 1497 \r\nQ 2881 1984 2565 2268 \r\nQ 2250 2553 1709 2553 \r\nQ 1456 2553 1204 2497 \r\nQ 953 2441 691 2322 \r\nL 691 4666 \r\nz\r\n\" id=\"DejaVuSans-35\" transform=\"scale(0.015625)\"/>\r\n       </defs>\r\n       <use xlink:href=\"#DejaVuSans-35\"/>\r\n       <use x=\"63.623047\" xlink:href=\"#DejaVuSans-30\"/>\r\n       <use x=\"127.246094\" xlink:href=\"#DejaVuSans-30\"/>\r\n       <use x=\"190.869141\" xlink:href=\"#DejaVuSans-30\"/>\r\n       <use x=\"254.492188\" xlink:href=\"#DejaVuSans-30\"/>\r\n      </g>\r\n     </g>\r\n    </g>\r\n    <g id=\"ytick_3\">\r\n     <g id=\"line2d_15\">\r\n      <path clip-path=\"url(#p1edaa710be)\" d=\"M 52.375 154.607631 \r\nL 387.175 154.607631 \r\n\" style=\"fill:none;stroke:#b0b0b0;stroke-linecap:square;stroke-width:0.8;\"/>\r\n     </g>\r\n     <g id=\"line2d_16\">\r\n      <g>\r\n       <use style=\"stroke:#000000;stroke-width:0.8;\" x=\"52.375\" xlink:href=\"#m9fc0626021\" y=\"154.607631\"/>\r\n      </g>\r\n     </g>\r\n     <g id=\"text_8\">\r\n      <!-- 100000 -->\r\n      <g transform=\"translate(7.2 158.40685)scale(0.1 -0.1)\">\r\n       <use xlink:href=\"#DejaVuSans-31\"/>\r\n       <use x=\"63.623047\" xlink:href=\"#DejaVuSans-30\"/>\r\n       <use x=\"127.246094\" xlink:href=\"#DejaVuSans-30\"/>\r\n       <use x=\"190.869141\" xlink:href=\"#DejaVuSans-30\"/>\r\n       <use x=\"254.492188\" xlink:href=\"#DejaVuSans-30\"/>\r\n       <use x=\"318.115234\" xlink:href=\"#DejaVuSans-30\"/>\r\n      </g>\r\n     </g>\r\n    </g>\r\n    <g id=\"ytick_4\">\r\n     <g id=\"line2d_17\">\r\n      <path clip-path=\"url(#p1edaa710be)\" d=\"M 52.375 119.591447 \r\nL 387.175 119.591447 \r\n\" style=\"fill:none;stroke:#b0b0b0;stroke-linecap:square;stroke-width:0.8;\"/>\r\n     </g>\r\n     <g id=\"line2d_18\">\r\n      <g>\r\n       <use style=\"stroke:#000000;stroke-width:0.8;\" x=\"52.375\" xlink:href=\"#m9fc0626021\" y=\"119.591447\"/>\r\n      </g>\r\n     </g>\r\n     <g id=\"text_9\">\r\n      <!-- 150000 -->\r\n      <g transform=\"translate(7.2 123.390666)scale(0.1 -0.1)\">\r\n       <use xlink:href=\"#DejaVuSans-31\"/>\r\n       <use x=\"63.623047\" xlink:href=\"#DejaVuSans-35\"/>\r\n       <use x=\"127.246094\" xlink:href=\"#DejaVuSans-30\"/>\r\n       <use x=\"190.869141\" xlink:href=\"#DejaVuSans-30\"/>\r\n       <use x=\"254.492188\" xlink:href=\"#DejaVuSans-30\"/>\r\n       <use x=\"318.115234\" xlink:href=\"#DejaVuSans-30\"/>\r\n      </g>\r\n     </g>\r\n    </g>\r\n    <g id=\"ytick_5\">\r\n     <g id=\"line2d_19\">\r\n      <path clip-path=\"url(#p1edaa710be)\" d=\"M 52.375 84.575263 \r\nL 387.175 84.575263 \r\n\" style=\"fill:none;stroke:#b0b0b0;stroke-linecap:square;stroke-width:0.8;\"/>\r\n     </g>\r\n     <g id=\"line2d_20\">\r\n      <g>\r\n       <use style=\"stroke:#000000;stroke-width:0.8;\" x=\"52.375\" xlink:href=\"#m9fc0626021\" y=\"84.575263\"/>\r\n      </g>\r\n     </g>\r\n     <g id=\"text_10\">\r\n      <!-- 200000 -->\r\n      <g transform=\"translate(7.2 88.374481)scale(0.1 -0.1)\">\r\n       <use xlink:href=\"#DejaVuSans-32\"/>\r\n       <use x=\"63.623047\" xlink:href=\"#DejaVuSans-30\"/>\r\n       <use x=\"127.246094\" xlink:href=\"#DejaVuSans-30\"/>\r\n       <use x=\"190.869141\" xlink:href=\"#DejaVuSans-30\"/>\r\n       <use x=\"254.492188\" xlink:href=\"#DejaVuSans-30\"/>\r\n       <use x=\"318.115234\" xlink:href=\"#DejaVuSans-30\"/>\r\n      </g>\r\n     </g>\r\n    </g>\r\n    <g id=\"ytick_6\">\r\n     <g id=\"line2d_21\">\r\n      <path clip-path=\"url(#p1edaa710be)\" d=\"M 52.375 49.559078 \r\nL 387.175 49.559078 \r\n\" style=\"fill:none;stroke:#b0b0b0;stroke-linecap:square;stroke-width:0.8;\"/>\r\n     </g>\r\n     <g id=\"line2d_22\">\r\n      <g>\r\n       <use style=\"stroke:#000000;stroke-width:0.8;\" x=\"52.375\" xlink:href=\"#m9fc0626021\" y=\"49.559078\"/>\r\n      </g>\r\n     </g>\r\n     <g id=\"text_11\">\r\n      <!-- 250000 -->\r\n      <g transform=\"translate(7.2 53.358297)scale(0.1 -0.1)\">\r\n       <use xlink:href=\"#DejaVuSans-32\"/>\r\n       <use x=\"63.623047\" xlink:href=\"#DejaVuSans-35\"/>\r\n       <use x=\"127.246094\" xlink:href=\"#DejaVuSans-30\"/>\r\n       <use x=\"190.869141\" xlink:href=\"#DejaVuSans-30\"/>\r\n       <use x=\"254.492188\" xlink:href=\"#DejaVuSans-30\"/>\r\n       <use x=\"318.115234\" xlink:href=\"#DejaVuSans-30\"/>\r\n      </g>\r\n     </g>\r\n    </g>\r\n    <g id=\"ytick_7\">\r\n     <g id=\"line2d_23\">\r\n      <path clip-path=\"url(#p1edaa710be)\" d=\"M 52.375 14.542894 \r\nL 387.175 14.542894 \r\n\" style=\"fill:none;stroke:#b0b0b0;stroke-linecap:square;stroke-width:0.8;\"/>\r\n     </g>\r\n     <g id=\"line2d_24\">\r\n      <g>\r\n       <use style=\"stroke:#000000;stroke-width:0.8;\" x=\"52.375\" xlink:href=\"#m9fc0626021\" y=\"14.542894\"/>\r\n      </g>\r\n     </g>\r\n     <g id=\"text_12\">\r\n      <!-- 300000 -->\r\n      <g transform=\"translate(7.2 18.342113)scale(0.1 -0.1)\">\r\n       <use xlink:href=\"#DejaVuSans-33\"/>\r\n       <use x=\"63.623047\" xlink:href=\"#DejaVuSans-30\"/>\r\n       <use x=\"127.246094\" xlink:href=\"#DejaVuSans-30\"/>\r\n       <use x=\"190.869141\" xlink:href=\"#DejaVuSans-30\"/>\r\n       <use x=\"254.492188\" xlink:href=\"#DejaVuSans-30\"/>\r\n       <use x=\"318.115234\" xlink:href=\"#DejaVuSans-30\"/>\r\n      </g>\r\n     </g>\r\n    </g>\r\n   </g>\r\n   <g id=\"patch_53\">\r\n    <path d=\"M 52.375 224.64 \r\nL 52.375 7.2 \r\n\" style=\"fill:none;stroke:#000000;stroke-linecap:square;stroke-linejoin:miter;stroke-width:0.8;\"/>\r\n   </g>\r\n   <g id=\"patch_54\">\r\n    <path d=\"M 387.175 224.64 \r\nL 387.175 7.2 \r\n\" style=\"fill:none;stroke:#000000;stroke-linecap:square;stroke-linejoin:miter;stroke-width:0.8;\"/>\r\n   </g>\r\n   <g id=\"patch_55\">\r\n    <path d=\"M 52.375 224.64 \r\nL 387.175 224.64 \r\n\" style=\"fill:none;stroke:#000000;stroke-linecap:square;stroke-linejoin:miter;stroke-width:0.8;\"/>\r\n   </g>\r\n   <g id=\"patch_56\">\r\n    <path d=\"M 52.375 7.2 \r\nL 387.175 7.2 \r\n\" style=\"fill:none;stroke:#000000;stroke-linecap:square;stroke-linejoin:miter;stroke-width:0.8;\"/>\r\n   </g>\r\n  </g>\r\n </g>\r\n <defs>\r\n  <clipPath id=\"p1edaa710be\">\r\n   <rect height=\"217.44\" width=\"334.8\" x=\"52.375\" y=\"7.2\"/>\r\n  </clipPath>\r\n </defs>\r\n</svg>\r\n",
      "image/png": "[encoded data removed]"
     },
     "metadata": {
      "needs_background": "light"
     }
    }
   ],
   "metadata": {}
  },
  {
   "cell_type": "code",
   "execution_count": 28,
   "source": [
    "csv_cat = pd.DataFrame(csv['category'].explode())\r\n",
    "csv_cat['cat_len'] = csv_cat.category.apply(lambda x: len(str(x)))\r\n",
    "\r\n",
    "csv_cat"
   ],
   "outputs": [
    {
     "output_type": "execute_result",
     "data": {
      "text/plain": [
       "                category  cat_len\n",
       "0                    NaN      NaN\n",
       "1                    NaN      NaN\n",
       "2                    NaN      NaN\n",
       "3                    NaN      NaN\n",
       "4               2003년 싱글      NaN\n",
       "...                  ...      ...\n",
       "867021   2016년 게임/앞서 해보기      NaN\n",
       "867021       총을 소재로 한 작품      NaN\n",
       "867021  Windows 게임/라틴 문자      NaN\n",
       "867022     에이지 오브 엠파이어 3      NaN\n",
       "867022  에이지 오브 엠파이어 3/유닛      NaN\n",
       "\n",
       "[1665015 rows x 2 columns]"
      ],
      "text/html": [
       "<div>\n",
       "<style scoped>\n",
       "    .dataframe tbody tr th:only-of-type {\n",
       "        vertical-align: middle;\n",
       "    }\n",
       "\n",
       "    .dataframe tbody tr th {\n",
       "        vertical-align: top;\n",
       "    }\n",
       "\n",
       "    .dataframe thead th {\n",
       "        text-align: right;\n",
       "    }\n",
       "</style>\n",
       "<table border=\"1\" class=\"dataframe\">\n",
       "  <thead>\n",
       "    <tr style=\"text-align: right;\">\n",
       "      <th></th>\n",
       "      <th>category</th>\n",
       "      <th>cat_len</th>\n",
       "    </tr>\n",
       "  </thead>\n",
       "  <tbody>\n",
       "    <tr>\n",
       "      <th>0</th>\n",
       "      <td>NaN</td>\n",
       "      <td>NaN</td>\n",
       "    </tr>\n",
       "    <tr>\n",
       "      <th>1</th>\n",
       "      <td>NaN</td>\n",
       "      <td>NaN</td>\n",
       "    </tr>\n",
       "    <tr>\n",
       "      <th>2</th>\n",
       "      <td>NaN</td>\n",
       "      <td>NaN</td>\n",
       "    </tr>\n",
       "    <tr>\n",
       "      <th>3</th>\n",
       "      <td>NaN</td>\n",
       "      <td>NaN</td>\n",
       "    </tr>\n",
       "    <tr>\n",
       "      <th>4</th>\n",
       "      <td>2003년 싱글</td>\n",
       "      <td>NaN</td>\n",
       "    </tr>\n",
       "    <tr>\n",
       "      <th>...</th>\n",
       "      <td>...</td>\n",
       "      <td>...</td>\n",
       "    </tr>\n",
       "    <tr>\n",
       "      <th>867021</th>\n",
       "      <td>2016년 게임/앞서 해보기</td>\n",
       "      <td>NaN</td>\n",
       "    </tr>\n",
       "    <tr>\n",
       "      <th>867021</th>\n",
       "      <td>총을 소재로 한 작품</td>\n",
       "      <td>NaN</td>\n",
       "    </tr>\n",
       "    <tr>\n",
       "      <th>867021</th>\n",
       "      <td>Windows 게임/라틴 문자</td>\n",
       "      <td>NaN</td>\n",
       "    </tr>\n",
       "    <tr>\n",
       "      <th>867022</th>\n",
       "      <td>에이지 오브 엠파이어 3</td>\n",
       "      <td>NaN</td>\n",
       "    </tr>\n",
       "    <tr>\n",
       "      <th>867022</th>\n",
       "      <td>에이지 오브 엠파이어 3/유닛</td>\n",
       "      <td>NaN</td>\n",
       "    </tr>\n",
       "  </tbody>\n",
       "</table>\n",
       "<p>1665015 rows × 2 columns</p>\n",
       "</div>"
      ]
     },
     "metadata": {},
     "execution_count": 28
    }
   ],
   "metadata": {}
  },
  {
   "cell_type": "code",
   "execution_count": 24,
   "source": [
    "csv_cat['cat_len'].describe()"
   ],
   "outputs": [
    {
     "output_type": "execute_result",
     "data": {
      "text/plain": [
       "count    1.665015e+06\n",
       "mean     7.838715e+00\n",
       "std      4.575101e+00\n",
       "min      0.000000e+00\n",
       "25%      3.000000e+00\n",
       "50%      8.000000e+00\n",
       "75%      1.000000e+01\n",
       "max      5.480000e+02\n",
       "Name: category, dtype: float64"
      ]
     },
     "metadata": {},
     "execution_count": 24
    }
   ],
   "metadata": {}
  },
  {
   "cell_type": "code",
   "execution_count": 26,
   "source": [
    "csv_cat.sort_values('cat_len', ascending=False).head(10)"
   ],
   "outputs": [
    {
     "output_type": "stream",
     "name": "stderr",
     "text": [
      "C:\\Users\\KimMinSang\\Anaconda3\\envs\\namu\\lib\\site-packages\\ipykernel_launcher.py:1: FutureWarning: In a future version of pandas all arguments of Series.sort_values will be keyword-only\n",
      "  \"\"\"Entry point for launching an IPython kernel.\n"
     ]
    },
    {
     "output_type": "error",
     "ename": "ValueError",
     "evalue": "No axis named cat_len for object type Series",
     "traceback": [
      "\u001b[1;31m---------------------------------------------------------------------------\u001b[0m",
      "\u001b[1;31mKeyError\u001b[0m                                  Traceback (most recent call last)",
      "\u001b[1;32m~\\Anaconda3\\envs\\namu\\lib\\site-packages\\pandas\\core\\generic.py\u001b[0m in \u001b[0;36m_get_axis_number\u001b[1;34m(cls, axis)\u001b[0m\n\u001b[0;32m    542\u001b[0m         \u001b[1;32mtry\u001b[0m\u001b[1;33m:\u001b[0m\u001b[1;33m\u001b[0m\u001b[1;33m\u001b[0m\u001b[0m\n\u001b[1;32m--> 543\u001b[1;33m             \u001b[1;32mreturn\u001b[0m \u001b[0mcls\u001b[0m\u001b[1;33m.\u001b[0m\u001b[0m_AXIS_TO_AXIS_NUMBER\u001b[0m\u001b[1;33m[\u001b[0m\u001b[0maxis\u001b[0m\u001b[1;33m]\u001b[0m\u001b[1;33m\u001b[0m\u001b[1;33m\u001b[0m\u001b[0m\n\u001b[0m\u001b[0;32m    544\u001b[0m         \u001b[1;32mexcept\u001b[0m \u001b[0mKeyError\u001b[0m\u001b[1;33m:\u001b[0m\u001b[1;33m\u001b[0m\u001b[1;33m\u001b[0m\u001b[0m\n",
      "\u001b[1;31mKeyError\u001b[0m: 'cat_len'",
      "\nDuring handling of the above exception, another exception occurred:\n",
      "\u001b[1;31mValueError\u001b[0m                                Traceback (most recent call last)",
      "\u001b[1;32mC:\\Users\\KIMMIN~1\\AppData\\Local\\Temp/ipykernel_3348/3186169341.py\u001b[0m in \u001b[0;36m<module>\u001b[1;34m\u001b[0m\n\u001b[1;32m----> 1\u001b[1;33m \u001b[0mcsv_cat\u001b[0m\u001b[1;33m.\u001b[0m\u001b[0msort_values\u001b[0m\u001b[1;33m(\u001b[0m\u001b[1;34m'cat_len'\u001b[0m\u001b[1;33m,\u001b[0m \u001b[0mascending\u001b[0m\u001b[1;33m=\u001b[0m\u001b[1;32mFalse\u001b[0m\u001b[1;33m)\u001b[0m\u001b[1;33m.\u001b[0m\u001b[0mhead\u001b[0m\u001b[1;33m(\u001b[0m\u001b[1;36m10\u001b[0m\u001b[1;33m)\u001b[0m\u001b[1;33m\u001b[0m\u001b[1;33m\u001b[0m\u001b[0m\n\u001b[0m",
      "\u001b[1;32m~\\Anaconda3\\envs\\namu\\lib\\site-packages\\pandas\\util\\_decorators.py\u001b[0m in \u001b[0;36mwrapper\u001b[1;34m(*args, **kwargs)\u001b[0m\n\u001b[0;32m    309\u001b[0m                     \u001b[0mstacklevel\u001b[0m\u001b[1;33m=\u001b[0m\u001b[0mstacklevel\u001b[0m\u001b[1;33m,\u001b[0m\u001b[1;33m\u001b[0m\u001b[1;33m\u001b[0m\u001b[0m\n\u001b[0;32m    310\u001b[0m                 )\n\u001b[1;32m--> 311\u001b[1;33m             \u001b[1;32mreturn\u001b[0m \u001b[0mfunc\u001b[0m\u001b[1;33m(\u001b[0m\u001b[1;33m*\u001b[0m\u001b[0margs\u001b[0m\u001b[1;33m,\u001b[0m \u001b[1;33m**\u001b[0m\u001b[0mkwargs\u001b[0m\u001b[1;33m)\u001b[0m\u001b[1;33m\u001b[0m\u001b[1;33m\u001b[0m\u001b[0m\n\u001b[0m\u001b[0;32m    312\u001b[0m \u001b[1;33m\u001b[0m\u001b[0m\n\u001b[0;32m    313\u001b[0m         \u001b[1;32mreturn\u001b[0m \u001b[0mwrapper\u001b[0m\u001b[1;33m\u001b[0m\u001b[1;33m\u001b[0m\u001b[0m\n",
      "\u001b[1;32m~\\Anaconda3\\envs\\namu\\lib\\site-packages\\pandas\\core\\series.py\u001b[0m in \u001b[0;36msort_values\u001b[1;34m(self, axis, ascending, inplace, kind, na_position, ignore_index, key)\u001b[0m\n\u001b[0;32m   3427\u001b[0m         \u001b[0minplace\u001b[0m \u001b[1;33m=\u001b[0m \u001b[0mvalidate_bool_kwarg\u001b[0m\u001b[1;33m(\u001b[0m\u001b[0minplace\u001b[0m\u001b[1;33m,\u001b[0m \u001b[1;34m\"inplace\"\u001b[0m\u001b[1;33m)\u001b[0m\u001b[1;33m\u001b[0m\u001b[1;33m\u001b[0m\u001b[0m\n\u001b[0;32m   3428\u001b[0m         \u001b[1;31m# Validate the axis parameter\u001b[0m\u001b[1;33m\u001b[0m\u001b[1;33m\u001b[0m\u001b[1;33m\u001b[0m\u001b[0m\n\u001b[1;32m-> 3429\u001b[1;33m         \u001b[0mself\u001b[0m\u001b[1;33m.\u001b[0m\u001b[0m_get_axis_number\u001b[0m\u001b[1;33m(\u001b[0m\u001b[0maxis\u001b[0m\u001b[1;33m)\u001b[0m\u001b[1;33m\u001b[0m\u001b[1;33m\u001b[0m\u001b[0m\n\u001b[0m\u001b[0;32m   3430\u001b[0m \u001b[1;33m\u001b[0m\u001b[0m\n\u001b[0;32m   3431\u001b[0m         \u001b[1;31m# GH 5856/5853\u001b[0m\u001b[1;33m\u001b[0m\u001b[1;33m\u001b[0m\u001b[1;33m\u001b[0m\u001b[0m\n",
      "\u001b[1;32m~\\Anaconda3\\envs\\namu\\lib\\site-packages\\pandas\\core\\generic.py\u001b[0m in \u001b[0;36m_get_axis_number\u001b[1;34m(cls, axis)\u001b[0m\n\u001b[0;32m    543\u001b[0m             \u001b[1;32mreturn\u001b[0m \u001b[0mcls\u001b[0m\u001b[1;33m.\u001b[0m\u001b[0m_AXIS_TO_AXIS_NUMBER\u001b[0m\u001b[1;33m[\u001b[0m\u001b[0maxis\u001b[0m\u001b[1;33m]\u001b[0m\u001b[1;33m\u001b[0m\u001b[1;33m\u001b[0m\u001b[0m\n\u001b[0;32m    544\u001b[0m         \u001b[1;32mexcept\u001b[0m \u001b[0mKeyError\u001b[0m\u001b[1;33m:\u001b[0m\u001b[1;33m\u001b[0m\u001b[1;33m\u001b[0m\u001b[0m\n\u001b[1;32m--> 545\u001b[1;33m             \u001b[1;32mraise\u001b[0m \u001b[0mValueError\u001b[0m\u001b[1;33m(\u001b[0m\u001b[1;34mf\"No axis named {axis} for object type {cls.__name__}\"\u001b[0m\u001b[1;33m)\u001b[0m\u001b[1;33m\u001b[0m\u001b[1;33m\u001b[0m\u001b[0m\n\u001b[0m\u001b[0;32m    546\u001b[0m \u001b[1;33m\u001b[0m\u001b[0m\n\u001b[0;32m    547\u001b[0m     \u001b[1;33m@\u001b[0m\u001b[0mfinal\u001b[0m\u001b[1;33m\u001b[0m\u001b[1;33m\u001b[0m\u001b[0m\n",
      "\u001b[1;31mValueError\u001b[0m: No axis named cat_len for object type Series"
     ]
    }
   ],
   "metadata": {}
  },
  {
   "cell_type": "code",
   "execution_count": 4,
   "source": [
    "csv['link_length'].describe()"
   ],
   "outputs": [
    {
     "output_type": "execute_result",
     "data": {
      "text/plain": [
       "count    867023.000000\n",
       "mean         24.420514\n",
       "std          63.475945\n",
       "min           0.000000\n",
       "25%           1.000000\n",
       "50%           9.000000\n",
       "75%          26.000000\n",
       "max       11231.000000\n",
       "Name: link_length, dtype: float64"
      ]
     },
     "metadata": {},
     "execution_count": 4
    }
   ],
   "metadata": {}
  },
  {
   "cell_type": "code",
   "execution_count": 5,
   "source": [
    "csv.sort_values('link_length' ,ascending=False).head(10)"
   ],
   "outputs": [
    {
     "output_type": "stream",
     "name": "stderr",
     "text": [
      "C:\\Users\\KimMinSang\\Anaconda3\\envs\\namu\\lib\\site-packages\\ipykernel_launcher.py:1: FutureWarning: In a future version of pandas all arguments of Series.sort_values will be keyword-only\n",
      "  \"\"\"Entry point for launching an IPython kernel.\n"
     ]
    },
    {
     "output_type": "error",
     "ename": "ValueError",
     "evalue": "No axis named link_length for object type Series",
     "traceback": [
      "\u001b[1;31m---------------------------------------------------------------------------\u001b[0m",
      "\u001b[1;31mKeyError\u001b[0m                                  Traceback (most recent call last)",
      "\u001b[1;32m~\\Anaconda3\\envs\\namu\\lib\\site-packages\\pandas\\core\\generic.py\u001b[0m in \u001b[0;36m_get_axis_number\u001b[1;34m(cls, axis)\u001b[0m\n\u001b[0;32m    542\u001b[0m         \u001b[1;32mtry\u001b[0m\u001b[1;33m:\u001b[0m\u001b[1;33m\u001b[0m\u001b[1;33m\u001b[0m\u001b[0m\n\u001b[1;32m--> 543\u001b[1;33m             \u001b[1;32mreturn\u001b[0m \u001b[0mcls\u001b[0m\u001b[1;33m.\u001b[0m\u001b[0m_AXIS_TO_AXIS_NUMBER\u001b[0m\u001b[1;33m[\u001b[0m\u001b[0maxis\u001b[0m\u001b[1;33m]\u001b[0m\u001b[1;33m\u001b[0m\u001b[1;33m\u001b[0m\u001b[0m\n\u001b[0m\u001b[0;32m    544\u001b[0m         \u001b[1;32mexcept\u001b[0m \u001b[0mKeyError\u001b[0m\u001b[1;33m:\u001b[0m\u001b[1;33m\u001b[0m\u001b[1;33m\u001b[0m\u001b[0m\n",
      "\u001b[1;31mKeyError\u001b[0m: 'link_length'",
      "\nDuring handling of the above exception, another exception occurred:\n",
      "\u001b[1;31mValueError\u001b[0m                                Traceback (most recent call last)",
      "\u001b[1;32mC:\\Users\\KIMMIN~1\\AppData\\Local\\Temp/ipykernel_20692/2696006648.py\u001b[0m in \u001b[0;36m<module>\u001b[1;34m\u001b[0m\n\u001b[1;32m----> 1\u001b[1;33m \u001b[0mcsv\u001b[0m\u001b[1;33m[\u001b[0m\u001b[1;34m'link_length'\u001b[0m\u001b[1;33m]\u001b[0m\u001b[1;33m.\u001b[0m\u001b[0msort_values\u001b[0m\u001b[1;33m(\u001b[0m\u001b[1;34m'link_length'\u001b[0m \u001b[1;33m,\u001b[0m\u001b[0mascending\u001b[0m\u001b[1;33m=\u001b[0m\u001b[1;32mFalse\u001b[0m\u001b[1;33m)\u001b[0m\u001b[1;33m.\u001b[0m\u001b[0mhead\u001b[0m\u001b[1;33m(\u001b[0m\u001b[1;36m10\u001b[0m\u001b[1;33m)\u001b[0m\u001b[1;33m\u001b[0m\u001b[1;33m\u001b[0m\u001b[0m\n\u001b[0m",
      "\u001b[1;32m~\\Anaconda3\\envs\\namu\\lib\\site-packages\\pandas\\util\\_decorators.py\u001b[0m in \u001b[0;36mwrapper\u001b[1;34m(*args, **kwargs)\u001b[0m\n\u001b[0;32m    309\u001b[0m                     \u001b[0mstacklevel\u001b[0m\u001b[1;33m=\u001b[0m\u001b[0mstacklevel\u001b[0m\u001b[1;33m,\u001b[0m\u001b[1;33m\u001b[0m\u001b[1;33m\u001b[0m\u001b[0m\n\u001b[0;32m    310\u001b[0m                 )\n\u001b[1;32m--> 311\u001b[1;33m             \u001b[1;32mreturn\u001b[0m \u001b[0mfunc\u001b[0m\u001b[1;33m(\u001b[0m\u001b[1;33m*\u001b[0m\u001b[0margs\u001b[0m\u001b[1;33m,\u001b[0m \u001b[1;33m**\u001b[0m\u001b[0mkwargs\u001b[0m\u001b[1;33m)\u001b[0m\u001b[1;33m\u001b[0m\u001b[1;33m\u001b[0m\u001b[0m\n\u001b[0m\u001b[0;32m    312\u001b[0m \u001b[1;33m\u001b[0m\u001b[0m\n\u001b[0;32m    313\u001b[0m         \u001b[1;32mreturn\u001b[0m \u001b[0mwrapper\u001b[0m\u001b[1;33m\u001b[0m\u001b[1;33m\u001b[0m\u001b[0m\n",
      "\u001b[1;32m~\\Anaconda3\\envs\\namu\\lib\\site-packages\\pandas\\core\\series.py\u001b[0m in \u001b[0;36msort_values\u001b[1;34m(self, axis, ascending, inplace, kind, na_position, ignore_index, key)\u001b[0m\n\u001b[0;32m   3427\u001b[0m         \u001b[0minplace\u001b[0m \u001b[1;33m=\u001b[0m \u001b[0mvalidate_bool_kwarg\u001b[0m\u001b[1;33m(\u001b[0m\u001b[0minplace\u001b[0m\u001b[1;33m,\u001b[0m \u001b[1;34m\"inplace\"\u001b[0m\u001b[1;33m)\u001b[0m\u001b[1;33m\u001b[0m\u001b[1;33m\u001b[0m\u001b[0m\n\u001b[0;32m   3428\u001b[0m         \u001b[1;31m# Validate the axis parameter\u001b[0m\u001b[1;33m\u001b[0m\u001b[1;33m\u001b[0m\u001b[1;33m\u001b[0m\u001b[0m\n\u001b[1;32m-> 3429\u001b[1;33m         \u001b[0mself\u001b[0m\u001b[1;33m.\u001b[0m\u001b[0m_get_axis_number\u001b[0m\u001b[1;33m(\u001b[0m\u001b[0maxis\u001b[0m\u001b[1;33m)\u001b[0m\u001b[1;33m\u001b[0m\u001b[1;33m\u001b[0m\u001b[0m\n\u001b[0m\u001b[0;32m   3430\u001b[0m \u001b[1;33m\u001b[0m\u001b[0m\n\u001b[0;32m   3431\u001b[0m         \u001b[1;31m# GH 5856/5853\u001b[0m\u001b[1;33m\u001b[0m\u001b[1;33m\u001b[0m\u001b[1;33m\u001b[0m\u001b[0m\n",
      "\u001b[1;32m~\\Anaconda3\\envs\\namu\\lib\\site-packages\\pandas\\core\\generic.py\u001b[0m in \u001b[0;36m_get_axis_number\u001b[1;34m(cls, axis)\u001b[0m\n\u001b[0;32m    543\u001b[0m             \u001b[1;32mreturn\u001b[0m \u001b[0mcls\u001b[0m\u001b[1;33m.\u001b[0m\u001b[0m_AXIS_TO_AXIS_NUMBER\u001b[0m\u001b[1;33m[\u001b[0m\u001b[0maxis\u001b[0m\u001b[1;33m]\u001b[0m\u001b[1;33m\u001b[0m\u001b[1;33m\u001b[0m\u001b[0m\n\u001b[0;32m    544\u001b[0m         \u001b[1;32mexcept\u001b[0m \u001b[0mKeyError\u001b[0m\u001b[1;33m:\u001b[0m\u001b[1;33m\u001b[0m\u001b[1;33m\u001b[0m\u001b[0m\n\u001b[1;32m--> 545\u001b[1;33m             \u001b[1;32mraise\u001b[0m \u001b[0mValueError\u001b[0m\u001b[1;33m(\u001b[0m\u001b[1;34mf\"No axis named {axis} for object type {cls.__name__}\"\u001b[0m\u001b[1;33m)\u001b[0m\u001b[1;33m\u001b[0m\u001b[1;33m\u001b[0m\u001b[0m\n\u001b[0m\u001b[0;32m    546\u001b[0m \u001b[1;33m\u001b[0m\u001b[0m\n\u001b[0;32m    547\u001b[0m     \u001b[1;33m@\u001b[0m\u001b[0mfinal\u001b[0m\u001b[1;33m\u001b[0m\u001b[1;33m\u001b[0m\u001b[0m\n",
      "\u001b[1;31mValueError\u001b[0m: No axis named link_length for object type Series"
     ]
    }
   ],
   "metadata": {}
  }
 ],
 "metadata": {
  "orig_nbformat": 4,
  "language_info": {
   "name": "python",
   "version": "3.7.11",
   "mimetype": "text/x-python",
   "codemirror_mode": {
    "name": "ipython",
    "version": 3
   },
   "pygments_lexer": "ipython3",
   "nbconvert_exporter": "python",
   "file_extension": ".py"
  },
  "kernelspec": {
   "name": "python3",
   "display_name": "Python 3.7.11 64-bit ('namu': conda)"
  },
  "interpreter": {
   "hash": "a92e0385f6f474872e74ee37622ea289500ec867cc7625cbe8ea2560d33be28e"
  }
 },
 "nbformat": 4,
 "nbformat_minor": 2
}