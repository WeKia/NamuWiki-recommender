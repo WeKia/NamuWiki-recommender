{
 "cells": [
  {
   "cell_type": "markdown",
   "source": [
    "# Data Analyze\r\n",
    "\r\n",
    "To process data properly, we need to analyze data\r\n"
   ],
   "metadata": {}
  },
  {
   "cell_type": "markdown",
   "source": [
    "# Import Libraries\r\n"
   ],
   "metadata": {}
  },
  {
   "cell_type": "code",
   "execution_count": 2,
   "source": [
    "import pandas as pd\r\n",
    "import matplotlib.pyplot as plt\r\n",
    "import ast\r\n",
    "import networkx as nx\r\n",
    "from itertools import combinations\r\n",
    "from tqdm import tqdm"
   ],
   "outputs": [],
   "metadata": {}
  },
  {
   "cell_type": "markdown",
   "source": [
    "# Process Data\r\n",
    "\r\n",
    "Frist, read CSV file and process it. Generate User-item pairs.\r\n"
   ],
   "metadata": {}
  },
  {
   "cell_type": "code",
   "execution_count": 15,
   "source": [
    "csv = pd.read_csv('../data/json_parsed.csv')\r\n",
    "\r\n",
    "# Since pandas writes list as string, retrieve them\r\n",
    "csv['links'] = csv.links.apply(lambda x: ast.literal_eval(x)[0])\r\n",
    "csv['contributors'] = csv.contributors.apply(lambda x: ast.literal_eval(x)[0])\r\n",
    "csv['category'] = csv.category.apply(lambda x: ast.literal_eval(x)[0])\r\n",
    "csv['link_length'] = csv.links.apply(lambda x: len(x))\r\n",
    "redirect = csv[(csv.link_length == 1) & (csv.text.str.contains('redirect'))]\r\n",
    "csv = csv[~((csv.link_length == 1) & (csv.text.str.contains('redirect')))]\r\n"
   ],
   "outputs": [],
   "metadata": {}
  },
  {
   "cell_type": "code",
   "execution_count": 16,
   "source": [
    "relink = {}\r\n",
    "\r\n",
    "for index, row in redirect.iterrows():\r\n",
    "    relink[row['title']] = row['links'][0]\r\n",
    "\r\n",
    "diction = {}\r\n",
    "category_transformer = {}\r\n",
    "i = 0\r\n",
    "\r\n",
    "for index, row in tqdm(csv.iterrows()):\r\n",
    "    link = relink.get(row['title'])\r\n",
    "    if link:\r\n",
    "        # Since there are secondary redirected documents, explore non-redirect document\r\n",
    "        while relink.get(link) is not None:\r\n",
    "            if link == relink.get(link):\r\n",
    "                break\r\n",
    "            link = relink.get(link)\r\n",
    "\r\n",
    "        if diction.get(link):\r\n",
    "            diction[link].extend(row['contributors'])\r\n",
    "        else:\r\n",
    "            diction[link] = row['contributors']\r\n",
    "\r\n",
    "        if category_transformer.get(link):\r\n",
    "            category_transformer[link].extend(row['category'])\r\n",
    "        else:\r\n",
    "            category_transformer[link] = row['category']\r\n",
    "\r\n",
    "    else:\r\n",
    "        if diction.get(row['title']):\r\n",
    "            diction[row['title']].extend(row['contributors'])\r\n",
    "        else:\r\n",
    "            diction[row['title']] = row['contributors']\r\n",
    "\r\n",
    "        if category_transformer.get(row['title']):\r\n",
    "            category_transformer[row['title']].extend(row['category'])\r\n",
    "        else:\r\n",
    "            category_transformer[row['title']] = row['category']\r\n",
    "\r\n",
    "    i += 1\r\n",
    "\r\n",
    "\r\n",
    "\r\n",
    "#processed = mpPandasObj(process_contributors, csv, numThreads=process_num, relink=relink)\r\n",
    "#processed = pd.DataFrame(list(processed.items()), columns=['title', 'contributors'])\r\n",
    "processed = pd.DataFrame(list(diction.items()), columns=['title', 'contributors'])\r\n",
    "#processed['title'] = processed.title.apply(lambda x : category_transformer[x])\r\n",
    "\r\n",
    "processed = processed.explode('contributors')\r\n",
    "\r\n",
    "contributor_count = processed.groupby('title').count()\r\n",
    "doc_count = processed.groupby('contributors').count()\r\n",
    "\r\n",
    "def divide_tag(x):\r\n",
    "    tags = []\r\n",
    "    for e in x:\r\n",
    "        tags += e.split('/')\r\n",
    "\r\n",
    "\r\n",
    "    return list(set(tags))\r\n",
    "\r\n",
    "csv['category'] = csv.category.apply(lambda x : divide_tag(x))"
   ],
   "outputs": [
    {
     "output_type": "stream",
     "name": "stderr",
     "text": [
      "571371it [00:40, 14002.28it/s]\n"
     ]
    }
   ],
   "metadata": {}
  },
  {
   "cell_type": "code",
   "execution_count": 17,
   "source": [
    "csv['category_length'] = csv.category.apply(lambda x: len(x))"
   ],
   "outputs": [],
   "metadata": {}
  },
  {
   "cell_type": "markdown",
   "source": [
    "# Data description\r\n",
    "\r\n",
    "Simple description of data. We can check mean, std and qunatiles.\r\n"
   ],
   "metadata": {}
  },
  {
   "cell_type": "code",
   "execution_count": 3,
   "source": [
    "contributor_count = contributor_count.sort_values('contributors' ,ascending=False)\r\n",
    "\r\n",
    "contributor_count.head(10)"
   ],
   "outputs": [
    {
     "output_type": "execute_result",
     "data": {
      "text/html": [
       "<div>\n",
       "<style scoped>\n",
       "    .dataframe tbody tr th:only-of-type {\n",
       "        vertical-align: middle;\n",
       "    }\n",
       "\n",
       "    .dataframe tbody tr th {\n",
       "        vertical-align: top;\n",
       "    }\n",
       "\n",
       "    .dataframe thead th {\n",
       "        text-align: right;\n",
       "    }\n",
       "</style>\n",
       "<table border=\"1\" class=\"dataframe\">\n",
       "  <thead>\n",
       "    <tr style=\"text-align: right;\">\n",
       "      <th></th>\n",
       "      <th>contributors</th>\n",
       "    </tr>\n",
       "    <tr>\n",
       "      <th>title</th>\n",
       "      <th></th>\n",
       "    </tr>\n",
       "  </thead>\n",
       "  <tbody>\n",
       "    <tr>\n",
       "      <th>대한민국</th>\n",
       "      <td>2895</td>\n",
       "    </tr>\n",
       "    <tr>\n",
       "      <th>오락실/서울</th>\n",
       "      <td>2874</td>\n",
       "    </tr>\n",
       "    <tr>\n",
       "      <th>야스오(리그 오브 레전드)</th>\n",
       "      <td>2847</td>\n",
       "    </tr>\n",
       "    <tr>\n",
       "      <th>D.Va</th>\n",
       "      <td>2613</td>\n",
       "    </tr>\n",
       "    <tr>\n",
       "      <th>오락실/경기/남부</th>\n",
       "      <td>2529</td>\n",
       "    </tr>\n",
       "    <tr>\n",
       "      <th>청해진해운 세월호 침몰 사고</th>\n",
       "      <td>2495</td>\n",
       "    </tr>\n",
       "    <tr>\n",
       "      <th>홍진호</th>\n",
       "      <td>2476</td>\n",
       "    </tr>\n",
       "    <tr>\n",
       "      <th>고양이</th>\n",
       "      <td>2395</td>\n",
       "    </tr>\n",
       "    <tr>\n",
       "      <th>북한</th>\n",
       "      <td>2347</td>\n",
       "    </tr>\n",
       "    <tr>\n",
       "      <th>김정은</th>\n",
       "      <td>2310</td>\n",
       "    </tr>\n",
       "  </tbody>\n",
       "</table>\n",
       "</div>"
      ],
      "text/plain": [
       "                 contributors\n",
       "title                        \n",
       "대한민국                     2895\n",
       "오락실/서울                   2874\n",
       "야스오(리그 오브 레전드)           2847\n",
       "D.Va                     2613\n",
       "오락실/경기/남부                2529\n",
       "청해진해운 세월호 침몰 사고          2495\n",
       "홍진호                      2476\n",
       "고양이                      2395\n",
       "북한                       2347\n",
       "김정은                      2310"
      ]
     },
     "metadata": {},
     "execution_count": 3
    }
   ],
   "metadata": {}
  },
  {
   "cell_type": "markdown",
   "source": [
    "Top 10 documents that are modified frequently. "
   ],
   "metadata": {}
  },
  {
   "cell_type": "code",
   "execution_count": null,
   "source": [
    "contributor_count.describe()"
   ],
   "outputs": [
    {
     "output_type": "execute_result",
     "data": {
      "text/html": [
       "<div>\n",
       "<style scoped>\n",
       "    .dataframe tbody tr th:only-of-type {\n",
       "        vertical-align: middle;\n",
       "    }\n",
       "\n",
       "    .dataframe tbody tr th {\n",
       "        vertical-align: top;\n",
       "    }\n",
       "\n",
       "    .dataframe thead th {\n",
       "        text-align: right;\n",
       "    }\n",
       "</style>\n",
       "<table border=\"1\" class=\"dataframe\">\n",
       "  <thead>\n",
       "    <tr style=\"text-align: right;\">\n",
       "      <th></th>\n",
       "      <th>contributors</th>\n",
       "    </tr>\n",
       "  </thead>\n",
       "  <tbody>\n",
       "    <tr>\n",
       "      <th>count</th>\n",
       "      <td>573334.000000</td>\n",
       "    </tr>\n",
       "    <tr>\n",
       "      <th>mean</th>\n",
       "      <td>42.142931</td>\n",
       "    </tr>\n",
       "    <tr>\n",
       "      <th>std</th>\n",
       "      <td>84.274899</td>\n",
       "    </tr>\n",
       "    <tr>\n",
       "      <th>min</th>\n",
       "      <td>1.000000</td>\n",
       "    </tr>\n",
       "    <tr>\n",
       "      <th>25%</th>\n",
       "      <td>7.000000</td>\n",
       "    </tr>\n",
       "    <tr>\n",
       "      <th>50%</th>\n",
       "      <td>16.000000</td>\n",
       "    </tr>\n",
       "    <tr>\n",
       "      <th>75%</th>\n",
       "      <td>41.000000</td>\n",
       "    </tr>\n",
       "    <tr>\n",
       "      <th>max</th>\n",
       "      <td>2895.000000</td>\n",
       "    </tr>\n",
       "  </tbody>\n",
       "</table>\n",
       "</div>"
      ],
      "text/plain": [
       "        contributors\n",
       "count  573334.000000\n",
       "mean       42.142931\n",
       "std        84.274899\n",
       "min         1.000000\n",
       "25%         7.000000\n",
       "50%        16.000000\n",
       "75%        41.000000\n",
       "max      2895.000000"
      ]
     },
     "metadata": {},
     "execution_count": 5
    }
   ],
   "metadata": {}
  },
  {
   "cell_type": "code",
   "execution_count": null,
   "source": [
    "doc_count = doc_count.sort_values('title' ,ascending=False)\r\n",
    "\r\n",
    "doc_count.head(10)"
   ],
   "outputs": [
    {
     "output_type": "execute_result",
     "data": {
      "text/html": [
       "<div>\n",
       "<style scoped>\n",
       "    .dataframe tbody tr th:only-of-type {\n",
       "        vertical-align: middle;\n",
       "    }\n",
       "\n",
       "    .dataframe tbody tr th {\n",
       "        vertical-align: top;\n",
       "    }\n",
       "\n",
       "    .dataframe thead th {\n",
       "        text-align: right;\n",
       "    }\n",
       "</style>\n",
       "<table border=\"1\" class=\"dataframe\">\n",
       "  <thead>\n",
       "    <tr style=\"text-align: right;\">\n",
       "      <th></th>\n",
       "      <th>title</th>\n",
       "    </tr>\n",
       "    <tr>\n",
       "      <th>contributors</th>\n",
       "      <th></th>\n",
       "    </tr>\n",
       "  </thead>\n",
       "  <tbody>\n",
       "    <tr>\n",
       "      <th>namubot</th>\n",
       "      <td>308148</td>\n",
       "    </tr>\n",
       "    <tr>\n",
       "      <th>kiwitree2</th>\n",
       "      <td>283390</td>\n",
       "    </tr>\n",
       "    <tr>\n",
       "      <th>samduk</th>\n",
       "      <td>131879</td>\n",
       "    </tr>\n",
       "    <tr>\n",
       "      <th>albert_einstein</th>\n",
       "      <td>60745</td>\n",
       "    </tr>\n",
       "    <tr>\n",
       "      <th>owb101</th>\n",
       "      <td>41000</td>\n",
       "    </tr>\n",
       "    <tr>\n",
       "      <th>korhermit</th>\n",
       "      <td>37868</td>\n",
       "    </tr>\n",
       "    <tr>\n",
       "      <th>e080hsm</th>\n",
       "      <td>37528</td>\n",
       "    </tr>\n",
       "    <tr>\n",
       "      <th>49.163.93.241</th>\n",
       "      <td>26566</td>\n",
       "    </tr>\n",
       "    <tr>\n",
       "      <th>general9753</th>\n",
       "      <td>25977</td>\n",
       "    </tr>\n",
       "    <tr>\n",
       "      <th>sky_nintendo</th>\n",
       "      <td>25878</td>\n",
       "    </tr>\n",
       "  </tbody>\n",
       "</table>\n",
       "</div>"
      ],
      "text/plain": [
       "                  title\n",
       "contributors           \n",
       "namubot          308148\n",
       "kiwitree2        283390\n",
       "samduk           131879\n",
       "albert_einstein   60745\n",
       "owb101            41000\n",
       "korhermit         37868\n",
       "e080hsm           37528\n",
       "49.163.93.241     26566\n",
       "general9753       25977\n",
       "sky_nintendo      25878"
      ]
     },
     "metadata": {},
     "execution_count": 6
    }
   ],
   "metadata": {}
  },
  {
   "cell_type": "markdown",
   "source": [
    "Top 10 contributors. First and second are bots. After third is human. So we can see that the greatest contributor is samduk"
   ],
   "metadata": {}
  },
  {
   "cell_type": "code",
   "execution_count": null,
   "source": [
    "doc_count.describe()"
   ],
   "outputs": [
    {
     "output_type": "execute_result",
     "data": {
      "text/html": [
       "<div>\n",
       "<style scoped>\n",
       "    .dataframe tbody tr th:only-of-type {\n",
       "        vertical-align: middle;\n",
       "    }\n",
       "\n",
       "    .dataframe tbody tr th {\n",
       "        vertical-align: top;\n",
       "    }\n",
       "\n",
       "    .dataframe thead th {\n",
       "        text-align: right;\n",
       "    }\n",
       "</style>\n",
       "<table border=\"1\" class=\"dataframe\">\n",
       "  <thead>\n",
       "    <tr style=\"text-align: right;\">\n",
       "      <th></th>\n",
       "      <th>title</th>\n",
       "    </tr>\n",
       "  </thead>\n",
       "  <tbody>\n",
       "    <tr>\n",
       "      <th>count</th>\n",
       "      <td>2.077510e+06</td>\n",
       "    </tr>\n",
       "    <tr>\n",
       "      <th>mean</th>\n",
       "      <td>1.163026e+01</td>\n",
       "    </tr>\n",
       "    <tr>\n",
       "      <th>std</th>\n",
       "      <td>3.376847e+02</td>\n",
       "    </tr>\n",
       "    <tr>\n",
       "      <th>min</th>\n",
       "      <td>1.000000e+00</td>\n",
       "    </tr>\n",
       "    <tr>\n",
       "      <th>25%</th>\n",
       "      <td>1.000000e+00</td>\n",
       "    </tr>\n",
       "    <tr>\n",
       "      <th>50%</th>\n",
       "      <td>1.000000e+00</td>\n",
       "    </tr>\n",
       "    <tr>\n",
       "      <th>75%</th>\n",
       "      <td>4.000000e+00</td>\n",
       "    </tr>\n",
       "    <tr>\n",
       "      <th>max</th>\n",
       "      <td>3.081480e+05</td>\n",
       "    </tr>\n",
       "  </tbody>\n",
       "</table>\n",
       "</div>"
      ],
      "text/plain": [
       "              title\n",
       "count  2.077510e+06\n",
       "mean   1.163026e+01\n",
       "std    3.376847e+02\n",
       "min    1.000000e+00\n",
       "25%    1.000000e+00\n",
       "50%    1.000000e+00\n",
       "75%    4.000000e+00\n",
       "max    3.081480e+05"
      ]
     },
     "metadata": {},
     "execution_count": 7
    }
   ],
   "metadata": {}
  },
  {
   "cell_type": "markdown",
   "source": [
    "## Histogram\r\n"
   ],
   "metadata": {}
  },
  {
   "cell_type": "code",
   "execution_count": 15,
   "source": [
    "contributor_count.hist(bins=1000)"
   ],
   "outputs": [
    {
     "output_type": "execute_result",
     "data": {
      "text/plain": [
       "array([[<AxesSubplot:title={'center':'contributors'}>]], dtype=object)"
      ]
     },
     "metadata": {},
     "execution_count": 15
    },
    {
     "output_type": "display_data",
     "data": {
      "image/png": "[encoded data removed]",
      "text/plain": [
       "<Figure size 432x288 with 1 Axes>"
      ]
     },
     "metadata": {
      "needs_background": "light"
     }
    }
   ],
   "metadata": {}
  },
  {
   "cell_type": "code",
   "execution_count": 19,
   "source": [
    "doc_count.hist(bins=100)"
   ],
   "outputs": [
    {
     "output_type": "execute_result",
     "data": {
      "text/plain": [
       "array([[<AxesSubplot:title={'center':'title'}>]], dtype=object)"
      ]
     },
     "metadata": {},
     "execution_count": 19
    },
    {
     "output_type": "display_data",
     "data": {
      "image/png": "[encoded data removed]",
      "text/plain": [
       "<Figure size 432x288 with 1 Axes>"
      ]
     },
     "metadata": {
      "needs_background": "light"
     }
    }
   ],
   "metadata": {}
  },
  {
   "cell_type": "code",
   "execution_count": 18,
   "source": [
    "# To Pad categorical features, check max num of category of document\r\n",
    "\r\n",
    "csv['category_length'].describe()"
   ],
   "outputs": [
    {
     "output_type": "execute_result",
     "data": {
      "text/plain": [
       "count    571371.000000\n",
       "mean          2.870231\n",
       "std           2.402202\n",
       "min           0.000000\n",
       "25%           1.000000\n",
       "50%           2.000000\n",
       "75%           3.000000\n",
       "max          43.000000\n",
       "Name: category_length, dtype: float64"
      ]
     },
     "metadata": {},
     "execution_count": 18
    }
   ],
   "metadata": {}
  },
  {
   "cell_type": "code",
   "execution_count": 19,
   "source": [
    "csv.sort_values('category_length' ,ascending=False).head(10)"
   ],
   "outputs": [
    {
     "output_type": "execute_result",
     "data": {
      "text/html": [
       "<div>\n",
       "<style scoped>\n",
       "    .dataframe tbody tr th:only-of-type {\n",
       "        vertical-align: middle;\n",
       "    }\n",
       "\n",
       "    .dataframe tbody tr th {\n",
       "        vertical-align: top;\n",
       "    }\n",
       "\n",
       "    .dataframe thead th {\n",
       "        text-align: right;\n",
       "    }\n",
       "</style>\n",
       "<table border=\"1\" class=\"dataframe\">\n",
       "  <thead>\n",
       "    <tr style=\"text-align: right;\">\n",
       "      <th></th>\n",
       "      <th>title</th>\n",
       "      <th>text</th>\n",
       "      <th>category</th>\n",
       "      <th>links</th>\n",
       "      <th>contributors</th>\n",
       "      <th>link_length</th>\n",
       "      <th>category_length</th>\n",
       "    </tr>\n",
       "  </thead>\n",
       "  <tbody>\n",
       "    <tr>\n",
       "      <th>87042</th>\n",
       "      <td>마이클 J. 폭스</td>\n",
       "      <td>할리우드 명예의 거리 입성자 이름 마이클 J. 폭스 MICHAEL J FOX 분야...</td>\n",
       "      <td>[아일랜드계 캐나다인, 잉글랜드계 캐나다인, 미국의 드라마 감독, 캐나다의 남가수,...</td>\n",
       "      <td>[스튜어트 리틀, 6월 9일, 백 투 더 퓨처 시리즈, 동안, 강수진(KBS 성우)...</td>\n",
       "      <td>[r:canicula, 221.161.137.3, 59.10.174.232, for...</td>\n",
       "      <td>46</td>\n",
       "      <td>43</td>\n",
       "    </tr>\n",
       "    <tr>\n",
       "      <th>853355</th>\n",
       "      <td>조선/왕실</td>\n",
       "      <td>조선 왕실 관향 전라북도 전주시 창업군주 태조 이성계 중시조 세조, 중종, 인조,...</td>\n",
       "      <td>[전주 이씨 완풍대군파, 전주 이씨 무림군파, 전주 이씨 의평군파, 전주 이씨 덕양...</td>\n",
       "      <td>[광평대군, 연희궁, 정현왕후, 장경왕후, 효순왕후, 변안열, 이방번, 현숙공주, ...</td>\n",
       "      <td>[bart0130, halfling, cometleeko, mkj3533, 112....</td>\n",
       "      <td>354</td>\n",
       "      <td>39</td>\n",
       "    </tr>\n",
       "    <tr>\n",
       "      <th>745644</th>\n",
       "      <td>마틴 쇼트</td>\n",
       "      <td>역대 토니상 시상식 남우주연상 - 뮤지컬 부문 제52회 (1998년) → 제53회...</td>\n",
       "      <td>[1979년 데뷔, 아일랜드계 캐나다인, 캐나다의 방송 PD, 미국의 방송작가, 캐...</td>\n",
       "      <td>[코미디언, 맥마스터 대학교, 프로듀서, 현재, 성우, 2000년, 카바레, 캐나다...</td>\n",
       "      <td>[googol, 119.70.108.247, urrbwhd, kiwitree2]</td>\n",
       "      <td>22</td>\n",
       "      <td>37</td>\n",
       "    </tr>\n",
       "    <tr>\n",
       "      <th>766128</th>\n",
       "      <td>윌 아넷</td>\n",
       "      <td>Will Arnett 본명 윌리엄 에머슨 아넷 (William Emerson Ar...</td>\n",
       "      <td>[아일랜드계 캐나다인, 캐나다의 방송 PD, 미국의 방송작가, 프랑스계 미국인, 캐...</td>\n",
       "      <td>[코미디언, 미국, 프로듀서, 캐나다, 음악가, 배우, 온타리오 주, 작가, 성우,...</td>\n",
       "      <td>[219.248.135.84, 122.36.246.227, cw0323, urrbw...</td>\n",
       "      <td>16</td>\n",
       "      <td>37</td>\n",
       "    </tr>\n",
       "    <tr>\n",
       "      <th>542407</th>\n",
       "      <td>세브달리자</td>\n",
       "      <td>Sevdaliza 이름 세브달리자(Sevdaliza) 본명 세브다 앨리자데흐(Se...</td>\n",
       "      <td>[ㅅ, 러시아계 이란인, 테헤란 출신 인물, 네덜란드의 여가수, 네덜란드의 여성 작...</td>\n",
       "      <td>[싱어송라이터, 하나투어, 가수, 펜타포트 락 페스티벌, 트립 합, 테헤란, 일렉트...</td>\n",
       "      <td>[c__c, urrbwhd, 121.138.61.48, wikic, kiwitree...</td>\n",
       "      <td>15</td>\n",
       "      <td>36</td>\n",
       "    </tr>\n",
       "    <tr>\n",
       "      <th>139645</th>\n",
       "      <td>스티븐 시걸</td>\n",
       "      <td>스티븐 시걸 Steven Seagal 본명 스티븐 프레데릭 시걸 (Steven F...</td>\n",
       "      <td>[ㅅ, 미국의 환경 운동가, 미국의 드라마 배우, 미국의 드라마 제작자, 배우 출신...</td>\n",
       "      <td>[더 키퍼, 2005년, 니 캐핑, 리사 실버맨, 마피아, 세르비아, 아이키도, 하...</td>\n",
       "      <td>[114.76.88.213, 116.41.137.252, iyunmin1586, 1...</td>\n",
       "      <td>136</td>\n",
       "      <td>36</td>\n",
       "    </tr>\n",
       "    <tr>\n",
       "      <th>624022</th>\n",
       "      <td>오데야 러쉬</td>\n",
       "      <td>오데야 러쉬 אודיה רש ｜ Odeya Rush 본명 오데야 러쉬네크 Odey...</td>\n",
       "      <td>[이스라엘의 영화 제작자, 미국 여배우, 이스라엘의 애니메이션 각본가, 이스라엘의 ...</td>\n",
       "      <td>[2015년, 1997년, 해피 어게인, 2016년, 사랑, 스무살, 배우, 스피닝...</td>\n",
       "      <td>[biobeo, kiwitree5, 99.237.177.85, urrbwhd, ki...</td>\n",
       "      <td>29</td>\n",
       "      <td>36</td>\n",
       "    </tr>\n",
       "    <tr>\n",
       "      <th>516842</th>\n",
       "      <td>마이크 마이어스(코미디언)</td>\n",
       "      <td>할리우드 명예의 거리 입성자 이름마이크 마이어스 MIKE MYERS 분야영화 입성...</td>\n",
       "      <td>[영국의 남성 코미디언, 캐나다의 방송 PD, 캐나다의 다큐멘터리 감독, 영국의 영...</td>\n",
       "      <td>[카녜이 웨스트, 저스틴 팀버레이크, 데미 무어, 바스터즈: 거친 녀석들, 새터데이...</td>\n",
       "      <td>[221.158.252.42, a_004, 121.134.184.110, 121.1...</td>\n",
       "      <td>34</td>\n",
       "      <td>36</td>\n",
       "    </tr>\n",
       "    <tr>\n",
       "      <th>302509</th>\n",
       "      <td>천정배</td>\n",
       "      <td>역임한 직위 대한민국 국회 대한민국 국회 국회운영위원장 제16대 후반기 유용태 →...</td>\n",
       "      <td>[국민의당(2016년) 대표, 제20대 국회의원, 민주통합당 국회의원, 제16대 국...</td>\n",
       "      <td>[제16대 대통령 선거, 6.25 전쟁, 안산시, 제18대 국회의원, 한나라당, 공...</td>\n",
       "      <td>[egyoon1, sangmin4480, 119.202.81.168, 175.200...</td>\n",
       "      <td>169</td>\n",
       "      <td>35</td>\n",
       "    </tr>\n",
       "    <tr>\n",
       "      <th>129312</th>\n",
       "      <td>세스 로건</td>\n",
       "      <td>Seth Aaron Rogen 개요 캐나다 밴쿠버 출신의 미국[* 정확히는 미국,...</td>\n",
       "      <td>[ㅅ, 캐나다의 방송 PD, 미국의 방송작가, 캐나다의 남가수, 캐나다의 방송작가,...</td>\n",
       "      <td>[션 두리틀, 제임스 프랭코, 성우, 롱 샷(2019), 워싱턴 메트로, 왼손잡이,...</td>\n",
       "      <td>[112.170.218.131, werdna, 124.59.41.172, 116.1...</td>\n",
       "      <td>34</td>\n",
       "      <td>35</td>\n",
       "    </tr>\n",
       "  </tbody>\n",
       "</table>\n",
       "</div>"
      ],
      "text/plain": [
       "                 title                                               text  \\\n",
       "87042        마이클 J. 폭스   할리우드 명예의 거리 입성자 이름 마이클 J. 폭스 MICHAEL J FOX 분야...   \n",
       "853355           조선/왕실   조선 왕실 관향 전라북도 전주시 창업군주 태조 이성계 중시조 세조, 중종, 인조,...   \n",
       "745644           마틴 쇼트   역대 토니상 시상식 남우주연상 - 뮤지컬 부문 제52회 (1998년) → 제53회...   \n",
       "766128            윌 아넷   Will Arnett 본명 윌리엄 에머슨 아넷 (William Emerson Ar...   \n",
       "542407           세브달리자   Sevdaliza 이름 세브달리자(Sevdaliza) 본명 세브다 앨리자데흐(Se...   \n",
       "139645          스티븐 시걸   스티븐 시걸 Steven Seagal 본명 스티븐 프레데릭 시걸 (Steven F...   \n",
       "624022          오데야 러쉬   오데야 러쉬 אודיה רש ｜ Odeya Rush 본명 오데야 러쉬네크 Odey...   \n",
       "516842  마이크 마이어스(코미디언)   할리우드 명예의 거리 입성자 이름마이크 마이어스 MIKE MYERS 분야영화 입성...   \n",
       "302509             천정배   역임한 직위 대한민국 국회 대한민국 국회 국회운영위원장 제16대 후반기 유용태 →...   \n",
       "129312           세스 로건   Seth Aaron Rogen 개요 캐나다 밴쿠버 출신의 미국[* 정확히는 미국,...   \n",
       "\n",
       "                                                 category  \\\n",
       "87042   [아일랜드계 캐나다인, 잉글랜드계 캐나다인, 미국의 드라마 감독, 캐나다의 남가수,...   \n",
       "853355  [전주 이씨 완풍대군파, 전주 이씨 무림군파, 전주 이씨 의평군파, 전주 이씨 덕양...   \n",
       "745644  [1979년 데뷔, 아일랜드계 캐나다인, 캐나다의 방송 PD, 미국의 방송작가, 캐...   \n",
       "766128  [아일랜드계 캐나다인, 캐나다의 방송 PD, 미국의 방송작가, 프랑스계 미국인, 캐...   \n",
       "542407  [ㅅ, 러시아계 이란인, 테헤란 출신 인물, 네덜란드의 여가수, 네덜란드의 여성 작...   \n",
       "139645  [ㅅ, 미국의 환경 운동가, 미국의 드라마 배우, 미국의 드라마 제작자, 배우 출신...   \n",
       "624022  [이스라엘의 영화 제작자, 미국 여배우, 이스라엘의 애니메이션 각본가, 이스라엘의 ...   \n",
       "516842  [영국의 남성 코미디언, 캐나다의 방송 PD, 캐나다의 다큐멘터리 감독, 영국의 영...   \n",
       "302509  [국민의당(2016년) 대표, 제20대 국회의원, 민주통합당 국회의원, 제16대 국...   \n",
       "129312  [ㅅ, 캐나다의 방송 PD, 미국의 방송작가, 캐나다의 남가수, 캐나다의 방송작가,...   \n",
       "\n",
       "                                                    links  \\\n",
       "87042   [스튜어트 리틀, 6월 9일, 백 투 더 퓨처 시리즈, 동안, 강수진(KBS 성우)...   \n",
       "853355  [광평대군, 연희궁, 정현왕후, 장경왕후, 효순왕후, 변안열, 이방번, 현숙공주, ...   \n",
       "745644  [코미디언, 맥마스터 대학교, 프로듀서, 현재, 성우, 2000년, 카바레, 캐나다...   \n",
       "766128  [코미디언, 미국, 프로듀서, 캐나다, 음악가, 배우, 온타리오 주, 작가, 성우,...   \n",
       "542407  [싱어송라이터, 하나투어, 가수, 펜타포트 락 페스티벌, 트립 합, 테헤란, 일렉트...   \n",
       "139645  [더 키퍼, 2005년, 니 캐핑, 리사 실버맨, 마피아, 세르비아, 아이키도, 하...   \n",
       "624022  [2015년, 1997년, 해피 어게인, 2016년, 사랑, 스무살, 배우, 스피닝...   \n",
       "516842  [카녜이 웨스트, 저스틴 팀버레이크, 데미 무어, 바스터즈: 거친 녀석들, 새터데이...   \n",
       "302509  [제16대 대통령 선거, 6.25 전쟁, 안산시, 제18대 국회의원, 한나라당, 공...   \n",
       "129312  [션 두리틀, 제임스 프랭코, 성우, 롱 샷(2019), 워싱턴 메트로, 왼손잡이,...   \n",
       "\n",
       "                                             contributors  link_length  \\\n",
       "87042   [r:canicula, 221.161.137.3, 59.10.174.232, for...           46   \n",
       "853355  [bart0130, halfling, cometleeko, mkj3533, 112....          354   \n",
       "745644       [googol, 119.70.108.247, urrbwhd, kiwitree2]           22   \n",
       "766128  [219.248.135.84, 122.36.246.227, cw0323, urrbw...           16   \n",
       "542407  [c__c, urrbwhd, 121.138.61.48, wikic, kiwitree...           15   \n",
       "139645  [114.76.88.213, 116.41.137.252, iyunmin1586, 1...          136   \n",
       "624022  [biobeo, kiwitree5, 99.237.177.85, urrbwhd, ki...           29   \n",
       "516842  [221.158.252.42, a_004, 121.134.184.110, 121.1...           34   \n",
       "302509  [egyoon1, sangmin4480, 119.202.81.168, 175.200...          169   \n",
       "129312  [112.170.218.131, werdna, 124.59.41.172, 116.1...           34   \n",
       "\n",
       "        category_length  \n",
       "87042                43  \n",
       "853355               39  \n",
       "745644               37  \n",
       "766128               37  \n",
       "542407               36  \n",
       "139645               36  \n",
       "624022               36  \n",
       "516842               36  \n",
       "302509               35  \n",
       "129312               35  "
      ]
     },
     "metadata": {},
     "execution_count": 19
    }
   ],
   "metadata": {}
  },
  {
   "cell_type": "code",
   "execution_count": 20,
   "source": [
    "csv['category_length'].hist(bins=50)"
   ],
   "outputs": [
    {
     "output_type": "execute_result",
     "data": {
      "text/plain": [
       "<AxesSubplot:>"
      ]
     },
     "metadata": {},
     "execution_count": 20
    },
    {
     "output_type": "display_data",
     "data": {
      "image/png": "[encoded data removed]",
      "text/plain": [
       "<Figure size 432x288 with 1 Axes>"
      ]
     },
     "metadata": {
      "needs_background": "light"
     }
    }
   ],
   "metadata": {}
  },
  {
   "cell_type": "code",
   "execution_count": 21,
   "source": [
    "csv_cat = pd.DataFrame(csv['category'].explode())\r\n",
    "csv_cat['cat_len'] = csv_cat.category.apply(lambda x: len(str(x)))\r\n",
    "\r\n",
    "csv_cat"
   ],
   "outputs": [
    {
     "output_type": "execute_result",
     "data": {
      "text/html": [
       "<div>\n",
       "<style scoped>\n",
       "    .dataframe tbody tr th:only-of-type {\n",
       "        vertical-align: middle;\n",
       "    }\n",
       "\n",
       "    .dataframe tbody tr th {\n",
       "        vertical-align: top;\n",
       "    }\n",
       "\n",
       "    .dataframe thead th {\n",
       "        text-align: right;\n",
       "    }\n",
       "</style>\n",
       "<table border=\"1\" class=\"dataframe\">\n",
       "  <thead>\n",
       "    <tr style=\"text-align: right;\">\n",
       "      <th></th>\n",
       "      <th>category</th>\n",
       "      <th>cat_len</th>\n",
       "    </tr>\n",
       "  </thead>\n",
       "  <tbody>\n",
       "    <tr>\n",
       "      <th>4</th>\n",
       "      <td>2003년 싱글</td>\n",
       "      <td>8</td>\n",
       "    </tr>\n",
       "    <tr>\n",
       "      <th>4</th>\n",
       "      <td>제목이 특수 문자인 문서</td>\n",
       "      <td>13</td>\n",
       "    </tr>\n",
       "    <tr>\n",
       "      <th>4</th>\n",
       "      <td>하마사키 아유미</td>\n",
       "      <td>8</td>\n",
       "    </tr>\n",
       "    <tr>\n",
       "      <th>5</th>\n",
       "      <td>세계수의 미궁 시리즈</td>\n",
       "      <td>11</td>\n",
       "    </tr>\n",
       "    <tr>\n",
       "      <th>6</th>\n",
       "      <td>2013년 종영</td>\n",
       "      <td>8</td>\n",
       "    </tr>\n",
       "    <tr>\n",
       "      <th>...</th>\n",
       "      <td>...</td>\n",
       "      <td>...</td>\n",
       "    </tr>\n",
       "    <tr>\n",
       "      <th>867021</th>\n",
       "      <td>라틴 문자</td>\n",
       "      <td>5</td>\n",
       "    </tr>\n",
       "    <tr>\n",
       "      <th>867021</th>\n",
       "      <td>2016년 게임</td>\n",
       "      <td>8</td>\n",
       "    </tr>\n",
       "    <tr>\n",
       "      <th>867022</th>\n",
       "      <td>에이지 오브 엠파이어 3</td>\n",
       "      <td>13</td>\n",
       "    </tr>\n",
       "    <tr>\n",
       "      <th>867022</th>\n",
       "      <td>에이지 오브 엠파이어 3</td>\n",
       "      <td>14</td>\n",
       "    </tr>\n",
       "    <tr>\n",
       "      <th>867022</th>\n",
       "      <td>유닛</td>\n",
       "      <td>2</td>\n",
       "    </tr>\n",
       "  </tbody>\n",
       "</table>\n",
       "<p>1640017 rows × 2 columns</p>\n",
       "</div>"
      ],
      "text/plain": [
       "              category  cat_len\n",
       "4             2003년 싱글        8\n",
       "4        제목이 특수 문자인 문서       13\n",
       "4             하마사키 아유미        8\n",
       "5          세계수의 미궁 시리즈       11\n",
       "6             2013년 종영        8\n",
       "...                ...      ...\n",
       "867021           라틴 문자        5\n",
       "867021        2016년 게임        8\n",
       "867022   에이지 오브 엠파이어 3       13\n",
       "867022   에이지 오브 엠파이어 3       14\n",
       "867022              유닛        2\n",
       "\n",
       "[1640017 rows x 2 columns]"
      ]
     },
     "metadata": {},
     "execution_count": 21
    }
   ],
   "metadata": {}
  },
  {
   "cell_type": "code",
   "execution_count": 22,
   "source": [
    "csv_cat['cat_len'].describe()"
   ],
   "outputs": [
    {
     "output_type": "execute_result",
     "data": {
      "text/plain": [
       "count    1.640017e+06\n",
       "mean     7.037784e+00\n",
       "std      4.028964e+00\n",
       "min      0.000000e+00\n",
       "25%      4.000000e+00\n",
       "50%      7.000000e+00\n",
       "75%      9.000000e+00\n",
       "max      2.240000e+02\n",
       "Name: cat_len, dtype: float64"
      ]
     },
     "metadata": {},
     "execution_count": 22
    }
   ],
   "metadata": {}
  },
  {
   "cell_type": "code",
   "execution_count": 23,
   "source": [
    "csv_cat.sort_values('cat_len', ascending=False).head(10)"
   ],
   "outputs": [
    {
     "output_type": "execute_result",
     "data": {
      "text/html": [
       "<div>\n",
       "<style scoped>\n",
       "    .dataframe tbody tr th:only-of-type {\n",
       "        vertical-align: middle;\n",
       "    }\n",
       "\n",
       "    .dataframe tbody tr th {\n",
       "        vertical-align: top;\n",
       "    }\n",
       "\n",
       "    .dataframe thead th {\n",
       "        text-align: right;\n",
       "    }\n",
       "</style>\n",
       "<table border=\"1\" class=\"dataframe\">\n",
       "  <thead>\n",
       "    <tr style=\"text-align: right;\">\n",
       "      <th></th>\n",
       "      <th>category</th>\n",
       "      <th>cat_len</th>\n",
       "    </tr>\n",
       "  </thead>\n",
       "  <tbody>\n",
       "    <tr>\n",
       "      <th>647781</th>\n",
       "      <td>%ED%95%98%EC%B9%98%EC%8A%A4%EC%B9%B4_%EC%B6%94...</td>\n",
       "      <td>224</td>\n",
       "    </tr>\n",
       "    <tr>\n",
       "      <th>647781</th>\n",
       "      <td>||||&lt;bgcolor=#1E90FF&gt;&lt;table align=center&gt;&lt;:&gt; {...</td>\n",
       "      <td>159</td>\n",
       "    </tr>\n",
       "    <tr>\n",
       "      <th>647781</th>\n",
       "      <td>MDAxNTIyMTM5NDg1NDc1.pSDBLb2F4NXZRICmZxnc4UTCO...</td>\n",
       "      <td>123</td>\n",
       "    </tr>\n",
       "    <tr>\n",
       "      <th>523092</th>\n",
       "      <td>Heroes of the Storm Global Championship North ...</td>\n",
       "      <td>53</td>\n",
       "    </tr>\n",
       "    <tr>\n",
       "      <th>439048</th>\n",
       "      <td>Heroes of the Storm Global Championship North ...</td>\n",
       "      <td>53</td>\n",
       "    </tr>\n",
       "    <tr>\n",
       "      <th>449806</th>\n",
       "      <td>Heroes of the Storm Global Championship North ...</td>\n",
       "      <td>53</td>\n",
       "    </tr>\n",
       "    <tr>\n",
       "      <th>523085</th>\n",
       "      <td>Heroes of the Storm Global Championship North ...</td>\n",
       "      <td>53</td>\n",
       "    </tr>\n",
       "    <tr>\n",
       "      <th>523084</th>\n",
       "      <td>Heroes of the Storm Global Championship North ...</td>\n",
       "      <td>53</td>\n",
       "    </tr>\n",
       "    <tr>\n",
       "      <th>449882</th>\n",
       "      <td>Heroes of the Storm Global Championship North ...</td>\n",
       "      <td>53</td>\n",
       "    </tr>\n",
       "    <tr>\n",
       "      <th>449888</th>\n",
       "      <td>Heroes of the Storm Global Championship North ...</td>\n",
       "      <td>53</td>\n",
       "    </tr>\n",
       "  </tbody>\n",
       "</table>\n",
       "</div>"
      ],
      "text/plain": [
       "                                                 category  cat_len\n",
       "647781  %ED%95%98%EC%B9%98%EC%8A%A4%EC%B9%B4_%EC%B6%94...      224\n",
       "647781  ||||<bgcolor=#1E90FF><table align=center><:> {...      159\n",
       "647781  MDAxNTIyMTM5NDg1NDc1.pSDBLb2F4NXZRICmZxnc4UTCO...      123\n",
       "523092  Heroes of the Storm Global Championship North ...       53\n",
       "439048  Heroes of the Storm Global Championship North ...       53\n",
       "449806  Heroes of the Storm Global Championship North ...       53\n",
       "523085  Heroes of the Storm Global Championship North ...       53\n",
       "523084  Heroes of the Storm Global Championship North ...       53\n",
       "449882  Heroes of the Storm Global Championship North ...       53\n",
       "449888  Heroes of the Storm Global Championship North ...       53"
      ]
     },
     "metadata": {},
     "execution_count": 23
    }
   ],
   "metadata": {}
  },
  {
   "cell_type": "code",
   "execution_count": 4,
   "source": [
    "csv['link_length'].describe()"
   ],
   "outputs": [
    {
     "output_type": "execute_result",
     "data": {
      "text/plain": [
       "count    867023.000000\n",
       "mean         24.420514\n",
       "std          63.475945\n",
       "min           0.000000\n",
       "25%           1.000000\n",
       "50%           9.000000\n",
       "75%          26.000000\n",
       "max       11231.000000\n",
       "Name: link_length, dtype: float64"
      ]
     },
     "metadata": {},
     "execution_count": 4
    }
   ],
   "metadata": {}
  },
  {
   "cell_type": "code",
   "execution_count": 5,
   "source": [
    "csv.sort_values('link_length' ,ascending=False).head(10)"
   ],
   "outputs": [
    {
     "output_type": "stream",
     "name": "stderr",
     "text": [
      "C:\\Users\\KimMinSang\\Anaconda3\\envs\\namu\\lib\\site-packages\\ipykernel_launcher.py:1: FutureWarning: In a future version of pandas all arguments of Series.sort_values will be keyword-only\n",
      "  \"\"\"Entry point for launching an IPython kernel.\n"
     ]
    },
    {
     "output_type": "error",
     "ename": "ValueError",
     "evalue": "No axis named link_length for object type Series",
     "traceback": [
      "\u001b[1;31m---------------------------------------------------------------------------\u001b[0m",
      "\u001b[1;31mKeyError\u001b[0m                                  Traceback (most recent call last)",
      "\u001b[1;32m~\\Anaconda3\\envs\\namu\\lib\\site-packages\\pandas\\core\\generic.py\u001b[0m in \u001b[0;36m_get_axis_number\u001b[1;34m(cls, axis)\u001b[0m\n\u001b[0;32m    542\u001b[0m         \u001b[1;32mtry\u001b[0m\u001b[1;33m:\u001b[0m\u001b[1;33m\u001b[0m\u001b[1;33m\u001b[0m\u001b[0m\n\u001b[1;32m--> 543\u001b[1;33m             \u001b[1;32mreturn\u001b[0m \u001b[0mcls\u001b[0m\u001b[1;33m.\u001b[0m\u001b[0m_AXIS_TO_AXIS_NUMBER\u001b[0m\u001b[1;33m[\u001b[0m\u001b[0maxis\u001b[0m\u001b[1;33m]\u001b[0m\u001b[1;33m\u001b[0m\u001b[1;33m\u001b[0m\u001b[0m\n\u001b[0m\u001b[0;32m    544\u001b[0m         \u001b[1;32mexcept\u001b[0m \u001b[0mKeyError\u001b[0m\u001b[1;33m:\u001b[0m\u001b[1;33m\u001b[0m\u001b[1;33m\u001b[0m\u001b[0m\n",
      "\u001b[1;31mKeyError\u001b[0m: 'link_length'",
      "\nDuring handling of the above exception, another exception occurred:\n",
      "\u001b[1;31mValueError\u001b[0m                                Traceback (most recent call last)",
      "\u001b[1;32mC:\\Users\\KIMMIN~1\\AppData\\Local\\Temp/ipykernel_20692/2696006648.py\u001b[0m in \u001b[0;36m<module>\u001b[1;34m\u001b[0m\n\u001b[1;32m----> 1\u001b[1;33m \u001b[0mcsv\u001b[0m\u001b[1;33m[\u001b[0m\u001b[1;34m'link_length'\u001b[0m\u001b[1;33m]\u001b[0m\u001b[1;33m.\u001b[0m\u001b[0msort_values\u001b[0m\u001b[1;33m(\u001b[0m\u001b[1;34m'link_length'\u001b[0m \u001b[1;33m,\u001b[0m\u001b[0mascending\u001b[0m\u001b[1;33m=\u001b[0m\u001b[1;32mFalse\u001b[0m\u001b[1;33m)\u001b[0m\u001b[1;33m.\u001b[0m\u001b[0mhead\u001b[0m\u001b[1;33m(\u001b[0m\u001b[1;36m10\u001b[0m\u001b[1;33m)\u001b[0m\u001b[1;33m\u001b[0m\u001b[1;33m\u001b[0m\u001b[0m\n\u001b[0m",
      "\u001b[1;32m~\\Anaconda3\\envs\\namu\\lib\\site-packages\\pandas\\util\\_decorators.py\u001b[0m in \u001b[0;36mwrapper\u001b[1;34m(*args, **kwargs)\u001b[0m\n\u001b[0;32m    309\u001b[0m                     \u001b[0mstacklevel\u001b[0m\u001b[1;33m=\u001b[0m\u001b[0mstacklevel\u001b[0m\u001b[1;33m,\u001b[0m\u001b[1;33m\u001b[0m\u001b[1;33m\u001b[0m\u001b[0m\n\u001b[0;32m    310\u001b[0m                 )\n\u001b[1;32m--> 311\u001b[1;33m             \u001b[1;32mreturn\u001b[0m \u001b[0mfunc\u001b[0m\u001b[1;33m(\u001b[0m\u001b[1;33m*\u001b[0m\u001b[0margs\u001b[0m\u001b[1;33m,\u001b[0m \u001b[1;33m**\u001b[0m\u001b[0mkwargs\u001b[0m\u001b[1;33m)\u001b[0m\u001b[1;33m\u001b[0m\u001b[1;33m\u001b[0m\u001b[0m\n\u001b[0m\u001b[0;32m    312\u001b[0m \u001b[1;33m\u001b[0m\u001b[0m\n\u001b[0;32m    313\u001b[0m         \u001b[1;32mreturn\u001b[0m \u001b[0mwrapper\u001b[0m\u001b[1;33m\u001b[0m\u001b[1;33m\u001b[0m\u001b[0m\n",
      "\u001b[1;32m~\\Anaconda3\\envs\\namu\\lib\\site-packages\\pandas\\core\\series.py\u001b[0m in \u001b[0;36msort_values\u001b[1;34m(self, axis, ascending, inplace, kind, na_position, ignore_index, key)\u001b[0m\n\u001b[0;32m   3427\u001b[0m         \u001b[0minplace\u001b[0m \u001b[1;33m=\u001b[0m \u001b[0mvalidate_bool_kwarg\u001b[0m\u001b[1;33m(\u001b[0m\u001b[0minplace\u001b[0m\u001b[1;33m,\u001b[0m \u001b[1;34m\"inplace\"\u001b[0m\u001b[1;33m)\u001b[0m\u001b[1;33m\u001b[0m\u001b[1;33m\u001b[0m\u001b[0m\n\u001b[0;32m   3428\u001b[0m         \u001b[1;31m# Validate the axis parameter\u001b[0m\u001b[1;33m\u001b[0m\u001b[1;33m\u001b[0m\u001b[1;33m\u001b[0m\u001b[0m\n\u001b[1;32m-> 3429\u001b[1;33m         \u001b[0mself\u001b[0m\u001b[1;33m.\u001b[0m\u001b[0m_get_axis_number\u001b[0m\u001b[1;33m(\u001b[0m\u001b[0maxis\u001b[0m\u001b[1;33m)\u001b[0m\u001b[1;33m\u001b[0m\u001b[1;33m\u001b[0m\u001b[0m\n\u001b[0m\u001b[0;32m   3430\u001b[0m \u001b[1;33m\u001b[0m\u001b[0m\n\u001b[0;32m   3431\u001b[0m         \u001b[1;31m# GH 5856/5853\u001b[0m\u001b[1;33m\u001b[0m\u001b[1;33m\u001b[0m\u001b[1;33m\u001b[0m\u001b[0m\n",
      "\u001b[1;32m~\\Anaconda3\\envs\\namu\\lib\\site-packages\\pandas\\core\\generic.py\u001b[0m in \u001b[0;36m_get_axis_number\u001b[1;34m(cls, axis)\u001b[0m\n\u001b[0;32m    543\u001b[0m             \u001b[1;32mreturn\u001b[0m \u001b[0mcls\u001b[0m\u001b[1;33m.\u001b[0m\u001b[0m_AXIS_TO_AXIS_NUMBER\u001b[0m\u001b[1;33m[\u001b[0m\u001b[0maxis\u001b[0m\u001b[1;33m]\u001b[0m\u001b[1;33m\u001b[0m\u001b[1;33m\u001b[0m\u001b[0m\n\u001b[0;32m    544\u001b[0m         \u001b[1;32mexcept\u001b[0m \u001b[0mKeyError\u001b[0m\u001b[1;33m:\u001b[0m\u001b[1;33m\u001b[0m\u001b[1;33m\u001b[0m\u001b[0m\n\u001b[1;32m--> 545\u001b[1;33m             \u001b[1;32mraise\u001b[0m \u001b[0mValueError\u001b[0m\u001b[1;33m(\u001b[0m\u001b[1;34mf\"No axis named {axis} for object type {cls.__name__}\"\u001b[0m\u001b[1;33m)\u001b[0m\u001b[1;33m\u001b[0m\u001b[1;33m\u001b[0m\u001b[0m\n\u001b[0m\u001b[0;32m    546\u001b[0m \u001b[1;33m\u001b[0m\u001b[0m\n\u001b[0;32m    547\u001b[0m     \u001b[1;33m@\u001b[0m\u001b[0mfinal\u001b[0m\u001b[1;33m\u001b[0m\u001b[1;33m\u001b[0m\u001b[0m\n",
      "\u001b[1;31mValueError\u001b[0m: No axis named link_length for object type Series"
     ]
    }
   ],
   "metadata": {}
  },
  {
   "cell_type": "code",
   "execution_count": 4,
   "source": [
    "cat = csv[['title', 'category']].dropna().explode('category')\r\n",
    "cat"
   ],
   "outputs": [
    {
     "output_type": "execute_result",
     "data": {
      "text/html": [
       "<div>\n",
       "<style scoped>\n",
       "    .dataframe tbody tr th:only-of-type {\n",
       "        vertical-align: middle;\n",
       "    }\n",
       "\n",
       "    .dataframe tbody tr th {\n",
       "        vertical-align: top;\n",
       "    }\n",
       "\n",
       "    .dataframe thead th {\n",
       "        text-align: right;\n",
       "    }\n",
       "</style>\n",
       "<table border=\"1\" class=\"dataframe\">\n",
       "  <thead>\n",
       "    <tr style=\"text-align: right;\">\n",
       "      <th></th>\n",
       "      <th>title</th>\n",
       "      <th>category</th>\n",
       "    </tr>\n",
       "  </thead>\n",
       "  <tbody>\n",
       "    <tr>\n",
       "      <th>4</th>\n",
       "      <td>&amp;(싱글)</td>\n",
       "      <td>2003년 싱글</td>\n",
       "    </tr>\n",
       "    <tr>\n",
       "      <th>4</th>\n",
       "      <td>&amp;(싱글)</td>\n",
       "      <td>제목이 특수 문자인 문서</td>\n",
       "    </tr>\n",
       "    <tr>\n",
       "      <th>4</th>\n",
       "      <td>&amp;(싱글)</td>\n",
       "      <td>하마사키 아유미</td>\n",
       "    </tr>\n",
       "    <tr>\n",
       "      <th>5</th>\n",
       "      <td>!!아앗!!</td>\n",
       "      <td>세계수의 미궁 시리즈</td>\n",
       "    </tr>\n",
       "    <tr>\n",
       "      <th>6</th>\n",
       "      <td>“……”</td>\n",
       "      <td>2013년 종영/개그콘서트 코너</td>\n",
       "    </tr>\n",
       "    <tr>\n",
       "      <th>...</th>\n",
       "      <td>...</td>\n",
       "      <td>...</td>\n",
       "    </tr>\n",
       "    <tr>\n",
       "      <th>867021</th>\n",
       "      <td>Hot Dogs, Horseshoes &amp; Hand Grenades/아이템</td>\n",
       "      <td>2016년 게임/앞서 해보기</td>\n",
       "    </tr>\n",
       "    <tr>\n",
       "      <th>867021</th>\n",
       "      <td>Hot Dogs, Horseshoes &amp; Hand Grenades/아이템</td>\n",
       "      <td>총을 소재로 한 작품</td>\n",
       "    </tr>\n",
       "    <tr>\n",
       "      <th>867021</th>\n",
       "      <td>Hot Dogs, Horseshoes &amp; Hand Grenades/아이템</td>\n",
       "      <td>Windows 게임/라틴 문자</td>\n",
       "    </tr>\n",
       "    <tr>\n",
       "      <th>867022</th>\n",
       "      <td>에이지 오브 엠파이어 3/기병</td>\n",
       "      <td>에이지 오브 엠파이어 3</td>\n",
       "    </tr>\n",
       "    <tr>\n",
       "      <th>867022</th>\n",
       "      <td>에이지 오브 엠파이어 3/기병</td>\n",
       "      <td>에이지 오브 엠파이어 3/유닛</td>\n",
       "    </tr>\n",
       "  </tbody>\n",
       "</table>\n",
       "<p>1369356 rows × 2 columns</p>\n",
       "</div>"
      ],
      "text/plain": [
       "                                           title           category\n",
       "4                                          &(싱글)           2003년 싱글\n",
       "4                                          &(싱글)      제목이 특수 문자인 문서\n",
       "4                                          &(싱글)           하마사키 아유미\n",
       "5                                         !!아앗!!        세계수의 미궁 시리즈\n",
       "6                                           “……”  2013년 종영/개그콘서트 코너\n",
       "...                                          ...                ...\n",
       "867021  Hot Dogs, Horseshoes & Hand Grenades/아이템    2016년 게임/앞서 해보기\n",
       "867021  Hot Dogs, Horseshoes & Hand Grenades/아이템        총을 소재로 한 작품\n",
       "867021  Hot Dogs, Horseshoes & Hand Grenades/아이템   Windows 게임/라틴 문자\n",
       "867022                          에이지 오브 엠파이어 3/기병      에이지 오브 엠파이어 3\n",
       "867022                          에이지 오브 엠파이어 3/기병   에이지 오브 엠파이어 3/유닛\n",
       "\n",
       "[1369356 rows x 2 columns]"
      ]
     },
     "metadata": {},
     "execution_count": 4
    }
   ],
   "metadata": {}
  },
  {
   "cell_type": "code",
   "execution_count": 25,
   "source": [
    "cat_count = cat[['title', 'category']].dropna().groupby('category').count().sort_values('title' ,ascending=False)\r\n",
    "\r\n",
    "cat_count"
   ],
   "outputs": [
    {
     "output_type": "execute_result",
     "data": {
      "text/plain": [
       "array([7862, 7154, 6742, ...,    1,    1,    1], dtype=int64)"
      ]
     },
     "metadata": {},
     "execution_count": 25
    }
   ],
   "metadata": {}
  },
  {
   "cell_type": "code",
   "execution_count": 5,
   "source": [
    "# possible maximum edges if we construct edges between nodes if they are in catergory\r\n",
    "cat_list = cat[['title', 'category']].groupby('category')['title'].apply(list)\r\n",
    "cat_list"
   ],
   "outputs": [
    {
     "output_type": "execute_result",
     "data": {
      "text/plain": [
       "category\n",
       "                                   [김인영(각본가), 추신, 코굴, 11시의 음악실, 현대케미칼, 정석동, 오무라이스...\n",
       "\\n[[분류:신데렐라 일레븐/등장인물                                                           [곽신비]\n",
       "\\n기타프릭스1-11th·드럼매니아1-10th 의 수록곡                                               [しりとり]\n",
       "  CW버스                                                                 [지미 올슨(CW버스)]\n",
       "  울산광역시의 초등학교                                                           [화진초등학교(울산)]\n",
       "                                                         ...                        \n",
       "힙합 음반                              ['Not' Based On True Story, 99(음반), Remapping ...\n",
       "힙합 크루                              [살롱 01, 오버클래스, 무브먼트(크루), 대남협, Vismajor Company...\n",
       "힙합|래퍼                                                                          [프란코]\n",
       "힙합을 소재로 한 작품                       [beatmania(1997), beatmania IIDX(1999), 리플렉 비트...\n",
       "힙합의 민족 시리즈                                             [힙합의 민족, 힙합의 민족2, 릴보이/힙합의 민족]\n",
       "Name: title, Length: 65094, dtype: object"
      ]
     },
     "metadata": {},
     "execution_count": 5
    }
   ],
   "metadata": {}
  },
  {
   "cell_type": "code",
   "execution_count": 5,
   "source": [
    "G = nx.Graph()\r\n",
    "\r\n",
    "for category, titles  in tqdm(cat_list.iteritems()):\r\n",
    "    if category == '' or len(titles) <= 1:\r\n",
    "        continue\r\n",
    "\r\n",
    "    G.add_edges_from(list(combinations(titles, 2)))\r\n",
    "\r\n",
    "print(len(G.edges))"
   ],
   "outputs": [
    {
     "output_type": "stream",
     "name": "stderr",
     "text": [
      "26266it [06:32,  2.45it/s]"
     ]
    }
   ],
   "metadata": {}
  }
 ],
 "metadata": {
  "orig_nbformat": 4,
  "language_info": {
   "name": "python",
   "version": "3.7.11",
   "mimetype": "text/x-python",
   "codemirror_mode": {
    "name": "ipython",
    "version": 3
   },
   "pygments_lexer": "ipython3",
   "nbconvert_exporter": "python",
   "file_extension": ".py"
  },
  "kernelspec": {
   "name": "python3",
   "display_name": "Python 3.7.11 64-bit ('namu': conda)"
  },
  "interpreter": {
   "hash": "a92e0385f6f474872e74ee37622ea289500ec867cc7625cbe8ea2560d33be28e"
  }
 },
 "nbformat": 4,
 "nbformat_minor": 2
}